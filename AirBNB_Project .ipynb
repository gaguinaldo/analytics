{
 "cells": [
  {
   "cell_type": "code",
   "execution_count": 279,
   "metadata": {
    "collapsed": true
   },
   "outputs": [],
   "source": [
    "#Standard Imports\n",
    "\n",
    "import pandas as pd\n",
    "import seaborn as sns\n",
    "import matplotlib.pyplot as plt\n",
    "%matplotlib inline"
   ]
  },
  {
   "cell_type": "code",
   "execution_count": 217,
   "metadata": {
    "collapsed": false,
    "scrolled": false
   },
   "outputs": [
    {
     "data": {
      "text/html": [
       "<div>\n",
       "<table border=\"1\" class=\"dataframe\">\n",
       "  <thead>\n",
       "    <tr style=\"text-align: right;\">\n",
       "      <th></th>\n",
       "      <th>host_id</th>\n",
       "      <th>host_name</th>\n",
       "      <th>host_since_year</th>\n",
       "      <th>host_since_anniversary</th>\n",
       "      <th>id</th>\n",
       "      <th>neighbourhood_cleansed</th>\n",
       "      <th>city</th>\n",
       "      <th>state</th>\n",
       "      <th>zipcode</th>\n",
       "      <th>country</th>\n",
       "      <th>...</th>\n",
       "      <th>host_response_time</th>\n",
       "      <th>host_response_rate</th>\n",
       "      <th>number_of_reviews</th>\n",
       "      <th>review_scores_rating</th>\n",
       "      <th>review_scores_accuracy</th>\n",
       "      <th>review_scores_cleanliness</th>\n",
       "      <th>review_scores_checkin</th>\n",
       "      <th>review_scores_communication</th>\n",
       "      <th>review_scores_location</th>\n",
       "      <th>review_scores_value</th>\n",
       "    </tr>\n",
       "  </thead>\n",
       "  <tbody>\n",
       "    <tr>\n",
       "      <th>0</th>\n",
       "      <td>1662</td>\n",
       "      <td>Chloe</td>\n",
       "      <td>2008</td>\n",
       "      <td>8/11</td>\n",
       "      <td>304958</td>\n",
       "      <td>Westerpark</td>\n",
       "      <td>Amsterdam</td>\n",
       "      <td>North Holland</td>\n",
       "      <td>1053</td>\n",
       "      <td>Netherlands</td>\n",
       "      <td>...</td>\n",
       "      <td>within a day</td>\n",
       "      <td>0.80</td>\n",
       "      <td>11</td>\n",
       "      <td>98.0</td>\n",
       "      <td>10.0</td>\n",
       "      <td>10.0</td>\n",
       "      <td>9.0</td>\n",
       "      <td>10.0</td>\n",
       "      <td>10.0</td>\n",
       "      <td>10.0</td>\n",
       "    </tr>\n",
       "    <tr>\n",
       "      <th>1</th>\n",
       "      <td>3159</td>\n",
       "      <td>Daniel</td>\n",
       "      <td>2008</td>\n",
       "      <td>9/24</td>\n",
       "      <td>2818</td>\n",
       "      <td>Oostelijk Havengebied - Indische Buurt</td>\n",
       "      <td>Amsterdam</td>\n",
       "      <td>North Holland</td>\n",
       "      <td>NaN</td>\n",
       "      <td>Netherlands</td>\n",
       "      <td>...</td>\n",
       "      <td>within an hour</td>\n",
       "      <td>1.00</td>\n",
       "      <td>108</td>\n",
       "      <td>97.0</td>\n",
       "      <td>10.0</td>\n",
       "      <td>10.0</td>\n",
       "      <td>10.0</td>\n",
       "      <td>10.0</td>\n",
       "      <td>9.0</td>\n",
       "      <td>10.0</td>\n",
       "    </tr>\n",
       "    <tr>\n",
       "      <th>2</th>\n",
       "      <td>3718</td>\n",
       "      <td>Britta</td>\n",
       "      <td>2008</td>\n",
       "      <td>10/19</td>\n",
       "      <td>103026</td>\n",
       "      <td>De Baarsjes - Oud-West</td>\n",
       "      <td>Amsterdam</td>\n",
       "      <td>Noord-Holland</td>\n",
       "      <td>1053</td>\n",
       "      <td>Netherlands</td>\n",
       "      <td>...</td>\n",
       "      <td>within a few hours</td>\n",
       "      <td>1.00</td>\n",
       "      <td>15</td>\n",
       "      <td>92.0</td>\n",
       "      <td>9.0</td>\n",
       "      <td>9.0</td>\n",
       "      <td>10.0</td>\n",
       "      <td>10.0</td>\n",
       "      <td>9.0</td>\n",
       "      <td>9.0</td>\n",
       "    </tr>\n",
       "    <tr>\n",
       "      <th>3</th>\n",
       "      <td>4716</td>\n",
       "      <td>Stefan</td>\n",
       "      <td>2008</td>\n",
       "      <td>11/30</td>\n",
       "      <td>550017</td>\n",
       "      <td>Centrum-Oost</td>\n",
       "      <td>Amsterdam</td>\n",
       "      <td>North Holland</td>\n",
       "      <td>1017</td>\n",
       "      <td>Netherlands</td>\n",
       "      <td>...</td>\n",
       "      <td>within a day</td>\n",
       "      <td>1.00</td>\n",
       "      <td>20</td>\n",
       "      <td>97.0</td>\n",
       "      <td>10.0</td>\n",
       "      <td>10.0</td>\n",
       "      <td>10.0</td>\n",
       "      <td>10.0</td>\n",
       "      <td>10.0</td>\n",
       "      <td>10.0</td>\n",
       "    </tr>\n",
       "    <tr>\n",
       "      <th>4</th>\n",
       "      <td>5271</td>\n",
       "      <td>Tyler</td>\n",
       "      <td>2008</td>\n",
       "      <td>12/17</td>\n",
       "      <td>4728389</td>\n",
       "      <td>Centrum-West</td>\n",
       "      <td>Amsterdam</td>\n",
       "      <td>Noord-Holland</td>\n",
       "      <td>1016 AM</td>\n",
       "      <td>Netherlands</td>\n",
       "      <td>...</td>\n",
       "      <td>within a day</td>\n",
       "      <td>0.89</td>\n",
       "      <td>1</td>\n",
       "      <td>100.0</td>\n",
       "      <td>8.0</td>\n",
       "      <td>10.0</td>\n",
       "      <td>8.0</td>\n",
       "      <td>10.0</td>\n",
       "      <td>10.0</td>\n",
       "      <td>6.0</td>\n",
       "    </tr>\n",
       "  </tbody>\n",
       "</table>\n",
       "<p>5 rows × 33 columns</p>\n",
       "</div>"
      ],
      "text/plain": [
       "   host_id host_name  host_since_year host_since_anniversary       id  \\\n",
       "0     1662     Chloe             2008                   8/11   304958   \n",
       "1     3159    Daniel             2008                   9/24     2818   \n",
       "2     3718    Britta             2008                  10/19   103026   \n",
       "3     4716    Stefan             2008                  11/30   550017   \n",
       "4     5271     Tyler             2008                  12/17  4728389   \n",
       "\n",
       "                   neighbourhood_cleansed       city          state  zipcode  \\\n",
       "0                              Westerpark  Amsterdam  North Holland     1053   \n",
       "1  Oostelijk Havengebied - Indische Buurt  Amsterdam  North Holland      NaN   \n",
       "2                  De Baarsjes - Oud-West  Amsterdam  Noord-Holland     1053   \n",
       "3                            Centrum-Oost  Amsterdam  North Holland     1017   \n",
       "4                            Centrum-West  Amsterdam  Noord-Holland  1016 AM   \n",
       "\n",
       "       country         ...           host_response_time  host_response_rate  \\\n",
       "0  Netherlands         ...                 within a day                0.80   \n",
       "1  Netherlands         ...               within an hour                1.00   \n",
       "2  Netherlands         ...           within a few hours                1.00   \n",
       "3  Netherlands         ...                 within a day                1.00   \n",
       "4  Netherlands         ...                 within a day                0.89   \n",
       "\n",
       "  number_of_reviews review_scores_rating  review_scores_accuracy  \\\n",
       "0                11                 98.0                    10.0   \n",
       "1               108                 97.0                    10.0   \n",
       "2                15                 92.0                     9.0   \n",
       "3                20                 97.0                    10.0   \n",
       "4                 1                100.0                     8.0   \n",
       "\n",
       "   review_scores_cleanliness  review_scores_checkin  \\\n",
       "0                       10.0                    9.0   \n",
       "1                       10.0                   10.0   \n",
       "2                        9.0                   10.0   \n",
       "3                       10.0                   10.0   \n",
       "4                       10.0                    8.0   \n",
       "\n",
       "   review_scores_communication review_scores_location  review_scores_value  \n",
       "0                         10.0                   10.0                 10.0  \n",
       "1                         10.0                    9.0                 10.0  \n",
       "2                         10.0                    9.0                  9.0  \n",
       "3                         10.0                   10.0                 10.0  \n",
       "4                         10.0                   10.0                  6.0  \n",
       "\n",
       "[5 rows x 33 columns]"
      ]
     },
     "execution_count": 217,
     "metadata": {},
     "output_type": "execute_result"
    }
   ],
   "source": [
    "#Load in data stored in Excel into Pandas and call head method.\n",
    "\n",
    "df = pd.read_excel(\"airbnb_data.xlsx\")\n",
    "df.head()"
   ]
  },
  {
   "cell_type": "code",
   "execution_count": 282,
   "metadata": {
    "collapsed": false
   },
   "outputs": [
    {
     "data": {
      "text/plain": [
       "(7833, 34)"
      ]
     },
     "execution_count": 282,
     "metadata": {},
     "output_type": "execute_result"
    }
   ],
   "source": [
    "#Determine size of dataframe.  Contains 7,833 rows and 34 columns.\n",
    "\n",
    "df.shape"
   ]
  },
  {
   "cell_type": "code",
   "execution_count": 283,
   "metadata": {
    "collapsed": false,
    "scrolled": false
   },
   "outputs": [
    {
     "name": "stderr",
     "output_type": "stream",
     "text": [
      "//anaconda/lib/python3.5/site-packages/numpy/lib/function_base.py:3834: RuntimeWarning: Invalid value encountered in percentile\n",
      "  RuntimeWarning)\n"
     ]
    },
    {
     "data": {
      "text/html": [
       "<div>\n",
       "<table border=\"1\" class=\"dataframe\">\n",
       "  <thead>\n",
       "    <tr style=\"text-align: right;\">\n",
       "      <th></th>\n",
       "      <th>host_id</th>\n",
       "      <th>host_since_year</th>\n",
       "      <th>id</th>\n",
       "      <th>latitude</th>\n",
       "      <th>longitude</th>\n",
       "      <th>accommodates</th>\n",
       "      <th>bathrooms</th>\n",
       "      <th>bedrooms</th>\n",
       "      <th>beds</th>\n",
       "      <th>price</th>\n",
       "      <th>...</th>\n",
       "      <th>minimum_nights</th>\n",
       "      <th>host_response_rate</th>\n",
       "      <th>number_of_reviews</th>\n",
       "      <th>review_scores_rating</th>\n",
       "      <th>review_scores_accuracy</th>\n",
       "      <th>review_scores_cleanliness</th>\n",
       "      <th>review_scores_checkin</th>\n",
       "      <th>review_scores_communication</th>\n",
       "      <th>review_scores_location</th>\n",
       "      <th>review_scores_value</th>\n",
       "    </tr>\n",
       "  </thead>\n",
       "  <tbody>\n",
       "    <tr>\n",
       "      <th>count</th>\n",
       "      <td>7.833000e+03</td>\n",
       "      <td>7833.000000</td>\n",
       "      <td>7.833000e+03</td>\n",
       "      <td>7833.000000</td>\n",
       "      <td>7833.000000</td>\n",
       "      <td>7833.000000</td>\n",
       "      <td>7764.000000</td>\n",
       "      <td>7819.000000</td>\n",
       "      <td>7820.000000</td>\n",
       "      <td>7833.000000</td>\n",
       "      <td>...</td>\n",
       "      <td>7833.000000</td>\n",
       "      <td>7101.000000</td>\n",
       "      <td>7833.000000</td>\n",
       "      <td>6135.000000</td>\n",
       "      <td>6124.000000</td>\n",
       "      <td>6124.000000</td>\n",
       "      <td>6125.000000</td>\n",
       "      <td>6122.000000</td>\n",
       "      <td>6124.000000</td>\n",
       "      <td>6122.000000</td>\n",
       "    </tr>\n",
       "    <tr>\n",
       "      <th>mean</th>\n",
       "      <td>9.879849e+06</td>\n",
       "      <td>2012.929784</td>\n",
       "      <td>2.926936e+06</td>\n",
       "      <td>52.366533</td>\n",
       "      <td>4.888232</td>\n",
       "      <td>3.114643</td>\n",
       "      <td>1.112957</td>\n",
       "      <td>1.414887</td>\n",
       "      <td>1.983887</td>\n",
       "      <td>129.010979</td>\n",
       "      <td>...</td>\n",
       "      <td>2.509000</td>\n",
       "      <td>0.908396</td>\n",
       "      <td>13.832887</td>\n",
       "      <td>93.342298</td>\n",
       "      <td>9.446930</td>\n",
       "      <td>9.289517</td>\n",
       "      <td>9.638857</td>\n",
       "      <td>9.698301</td>\n",
       "      <td>9.292946</td>\n",
       "      <td>9.040346</td>\n",
       "    </tr>\n",
       "    <tr>\n",
       "      <th>std</th>\n",
       "      <td>7.932933e+06</td>\n",
       "      <td>1.174583</td>\n",
       "      <td>1.739974e+06</td>\n",
       "      <td>0.014116</td>\n",
       "      <td>0.030059</td>\n",
       "      <td>1.757483</td>\n",
       "      <td>0.394872</td>\n",
       "      <td>0.886217</td>\n",
       "      <td>1.654441</td>\n",
       "      <td>128.032413</td>\n",
       "      <td>...</td>\n",
       "      <td>1.898255</td>\n",
       "      <td>0.151901</td>\n",
       "      <td>25.476797</td>\n",
       "      <td>7.535279</td>\n",
       "      <td>0.815671</td>\n",
       "      <td>0.967856</td>\n",
       "      <td>0.726375</td>\n",
       "      <td>0.645667</td>\n",
       "      <td>0.849480</td>\n",
       "      <td>0.881756</td>\n",
       "    </tr>\n",
       "    <tr>\n",
       "      <th>min</th>\n",
       "      <td>1.662000e+03</td>\n",
       "      <td>2008.000000</td>\n",
       "      <td>2.818000e+03</td>\n",
       "      <td>52.291569</td>\n",
       "      <td>4.763264</td>\n",
       "      <td>1.000000</td>\n",
       "      <td>0.000000</td>\n",
       "      <td>0.000000</td>\n",
       "      <td>1.000000</td>\n",
       "      <td>15.000000</td>\n",
       "      <td>...</td>\n",
       "      <td>1.000000</td>\n",
       "      <td>0.020000</td>\n",
       "      <td>0.000000</td>\n",
       "      <td>20.000000</td>\n",
       "      <td>2.000000</td>\n",
       "      <td>2.000000</td>\n",
       "      <td>2.000000</td>\n",
       "      <td>2.000000</td>\n",
       "      <td>2.000000</td>\n",
       "      <td>2.000000</td>\n",
       "    </tr>\n",
       "    <tr>\n",
       "      <th>25%</th>\n",
       "      <td>3.430410e+06</td>\n",
       "      <td>2012.000000</td>\n",
       "      <td>1.309364e+06</td>\n",
       "      <td>52.356731</td>\n",
       "      <td>4.869670</td>\n",
       "      <td>2.000000</td>\n",
       "      <td>NaN</td>\n",
       "      <td>NaN</td>\n",
       "      <td>NaN</td>\n",
       "      <td>85.000000</td>\n",
       "      <td>...</td>\n",
       "      <td>1.000000</td>\n",
       "      <td>NaN</td>\n",
       "      <td>1.000000</td>\n",
       "      <td>NaN</td>\n",
       "      <td>NaN</td>\n",
       "      <td>NaN</td>\n",
       "      <td>NaN</td>\n",
       "      <td>NaN</td>\n",
       "      <td>NaN</td>\n",
       "      <td>NaN</td>\n",
       "    </tr>\n",
       "    <tr>\n",
       "      <th>50%</th>\n",
       "      <td>7.392601e+06</td>\n",
       "      <td>2013.000000</td>\n",
       "      <td>2.964891e+06</td>\n",
       "      <td>52.366538</td>\n",
       "      <td>4.886406</td>\n",
       "      <td>2.000000</td>\n",
       "      <td>NaN</td>\n",
       "      <td>NaN</td>\n",
       "      <td>NaN</td>\n",
       "      <td>109.000000</td>\n",
       "      <td>...</td>\n",
       "      <td>2.000000</td>\n",
       "      <td>NaN</td>\n",
       "      <td>5.000000</td>\n",
       "      <td>NaN</td>\n",
       "      <td>NaN</td>\n",
       "      <td>NaN</td>\n",
       "      <td>NaN</td>\n",
       "      <td>NaN</td>\n",
       "      <td>NaN</td>\n",
       "      <td>NaN</td>\n",
       "    </tr>\n",
       "    <tr>\n",
       "      <th>75%</th>\n",
       "      <td>1.505417e+07</td>\n",
       "      <td>2014.000000</td>\n",
       "      <td>4.473450e+06</td>\n",
       "      <td>52.375805</td>\n",
       "      <td>4.903265</td>\n",
       "      <td>4.000000</td>\n",
       "      <td>NaN</td>\n",
       "      <td>NaN</td>\n",
       "      <td>NaN</td>\n",
       "      <td>150.000000</td>\n",
       "      <td>...</td>\n",
       "      <td>3.000000</td>\n",
       "      <td>NaN</td>\n",
       "      <td>15.000000</td>\n",
       "      <td>NaN</td>\n",
       "      <td>NaN</td>\n",
       "      <td>NaN</td>\n",
       "      <td>NaN</td>\n",
       "      <td>NaN</td>\n",
       "      <td>NaN</td>\n",
       "      <td>NaN</td>\n",
       "    </tr>\n",
       "    <tr>\n",
       "      <th>max</th>\n",
       "      <td>3.059504e+07</td>\n",
       "      <td>2015.000000</td>\n",
       "      <td>5.897527e+06</td>\n",
       "      <td>52.425381</td>\n",
       "      <td>5.019667</td>\n",
       "      <td>16.000000</td>\n",
       "      <td>8.000000</td>\n",
       "      <td>10.000000</td>\n",
       "      <td>16.000000</td>\n",
       "      <td>9000.000000</td>\n",
       "      <td>...</td>\n",
       "      <td>27.000000</td>\n",
       "      <td>1.000000</td>\n",
       "      <td>297.000000</td>\n",
       "      <td>100.000000</td>\n",
       "      <td>10.000000</td>\n",
       "      <td>10.000000</td>\n",
       "      <td>10.000000</td>\n",
       "      <td>10.000000</td>\n",
       "      <td>10.000000</td>\n",
       "      <td>10.000000</td>\n",
       "    </tr>\n",
       "  </tbody>\n",
       "</table>\n",
       "<p>8 rows × 22 columns</p>\n",
       "</div>"
      ],
      "text/plain": [
       "            host_id  host_since_year            id     latitude    longitude  \\\n",
       "count  7.833000e+03      7833.000000  7.833000e+03  7833.000000  7833.000000   \n",
       "mean   9.879849e+06      2012.929784  2.926936e+06    52.366533     4.888232   \n",
       "std    7.932933e+06         1.174583  1.739974e+06     0.014116     0.030059   \n",
       "min    1.662000e+03      2008.000000  2.818000e+03    52.291569     4.763264   \n",
       "25%    3.430410e+06      2012.000000  1.309364e+06    52.356731     4.869670   \n",
       "50%    7.392601e+06      2013.000000  2.964891e+06    52.366538     4.886406   \n",
       "75%    1.505417e+07      2014.000000  4.473450e+06    52.375805     4.903265   \n",
       "max    3.059504e+07      2015.000000  5.897527e+06    52.425381     5.019667   \n",
       "\n",
       "       accommodates    bathrooms     bedrooms         beds        price  \\\n",
       "count   7833.000000  7764.000000  7819.000000  7820.000000  7833.000000   \n",
       "mean       3.114643     1.112957     1.414887     1.983887   129.010979   \n",
       "std        1.757483     0.394872     0.886217     1.654441   128.032413   \n",
       "min        1.000000     0.000000     0.000000     1.000000    15.000000   \n",
       "25%        2.000000          NaN          NaN          NaN    85.000000   \n",
       "50%        2.000000          NaN          NaN          NaN   109.000000   \n",
       "75%        4.000000          NaN          NaN          NaN   150.000000   \n",
       "max       16.000000     8.000000    10.000000    16.000000  9000.000000   \n",
       "\n",
       "              ...           minimum_nights  host_response_rate  \\\n",
       "count         ...              7833.000000         7101.000000   \n",
       "mean          ...                 2.509000            0.908396   \n",
       "std           ...                 1.898255            0.151901   \n",
       "min           ...                 1.000000            0.020000   \n",
       "25%           ...                 1.000000                 NaN   \n",
       "50%           ...                 2.000000                 NaN   \n",
       "75%           ...                 3.000000                 NaN   \n",
       "max           ...                27.000000            1.000000   \n",
       "\n",
       "       number_of_reviews  review_scores_rating  review_scores_accuracy  \\\n",
       "count        7833.000000           6135.000000             6124.000000   \n",
       "mean           13.832887             93.342298                9.446930   \n",
       "std            25.476797              7.535279                0.815671   \n",
       "min             0.000000             20.000000                2.000000   \n",
       "25%             1.000000                   NaN                     NaN   \n",
       "50%             5.000000                   NaN                     NaN   \n",
       "75%            15.000000                   NaN                     NaN   \n",
       "max           297.000000            100.000000               10.000000   \n",
       "\n",
       "       review_scores_cleanliness  review_scores_checkin  \\\n",
       "count                6124.000000            6125.000000   \n",
       "mean                    9.289517               9.638857   \n",
       "std                     0.967856               0.726375   \n",
       "min                     2.000000               2.000000   \n",
       "25%                          NaN                    NaN   \n",
       "50%                          NaN                    NaN   \n",
       "75%                          NaN                    NaN   \n",
       "max                    10.000000              10.000000   \n",
       "\n",
       "       review_scores_communication  review_scores_location  \\\n",
       "count                  6122.000000             6124.000000   \n",
       "mean                      9.698301                9.292946   \n",
       "std                       0.645667                0.849480   \n",
       "min                       2.000000                2.000000   \n",
       "25%                            NaN                     NaN   \n",
       "50%                            NaN                     NaN   \n",
       "75%                            NaN                     NaN   \n",
       "max                      10.000000               10.000000   \n",
       "\n",
       "       review_scores_value  \n",
       "count          6122.000000  \n",
       "mean              9.040346  \n",
       "std               0.881756  \n",
       "min               2.000000  \n",
       "25%                    NaN  \n",
       "50%                    NaN  \n",
       "75%                    NaN  \n",
       "max              10.000000  \n",
       "\n",
       "[8 rows x 22 columns]"
      ]
     },
     "execution_count": 283,
     "metadata": {},
     "output_type": "execute_result"
    }
   ],
   "source": [
    "#Generate descriptive statistics for the entire dataframe.\n",
    "\n",
    "df.describe()"
   ]
  },
  {
   "cell_type": "code",
   "execution_count": 218,
   "metadata": {
    "collapsed": false
   },
   "outputs": [
    {
     "data": {
      "text/plain": [
       "array(['North Holland', 'Noord-Holland', 'NH', nan, 'Amsterdam',\n",
       "       'Noord holland', 'Jordaan', 'Noordholland', 'Northholland',\n",
       "       'Noord Holland', 'Jordaan Amsterdam', 'Holland',\n",
       "       'Nieuwe Hoogstraat', 'Daniel Stalpertstraat', 'Jordaan/center',\n",
       "       'GN', 'SV', 'XH', 'Nl', 'Olanda Settentrionale', 'NC', 'MH', 'Bx'], dtype=object)"
      ]
     },
     "execution_count": 218,
     "metadata": {},
     "output_type": "execute_result"
    }
   ],
   "source": [
    "#Determine the number of unique values in the State column.\n",
    "\n",
    "df.state.unique()"
   ]
  },
  {
   "cell_type": "code",
   "execution_count": 219,
   "metadata": {
    "collapsed": false
   },
   "outputs": [
    {
     "data": {
      "text/plain": [
       "(7833, 33)"
      ]
     },
     "execution_count": 219,
     "metadata": {},
     "output_type": "execute_result"
    }
   ],
   "source": [
    "#Determine shape of the dataframe.\n",
    "\n",
    "df.shape"
   ]
  },
  {
   "cell_type": "code",
   "execution_count": 220,
   "metadata": {
    "collapsed": false
   },
   "outputs": [
    {
     "data": {
      "text/plain": [
       "['host_id',\n",
       " 'host_name',\n",
       " 'host_since_year',\n",
       " 'host_since_anniversary',\n",
       " 'id',\n",
       " 'neighbourhood_cleansed',\n",
       " 'city',\n",
       " 'state',\n",
       " 'zipcode',\n",
       " 'country',\n",
       " 'latitude',\n",
       " 'longitude',\n",
       " 'property_type',\n",
       " 'room_type',\n",
       " 'accommodates',\n",
       " 'bathrooms',\n",
       " 'bedrooms',\n",
       " 'beds',\n",
       " 'bed_type',\n",
       " 'price',\n",
       " 'guests_included',\n",
       " 'extra_people',\n",
       " 'minimum_nights',\n",
       " 'host_response_time',\n",
       " 'host_response_rate',\n",
       " 'number_of_reviews',\n",
       " 'review_scores_rating',\n",
       " 'review_scores_accuracy',\n",
       " 'review_scores_cleanliness',\n",
       " 'review_scores_checkin',\n",
       " 'review_scores_communication',\n",
       " 'review_scores_location',\n",
       " 'review_scores_value']"
      ]
     },
     "execution_count": 220,
     "metadata": {},
     "output_type": "execute_result"
    }
   ],
   "source": [
    "#Generate list of column headings.\n",
    "\n",
    "df.columns.tolist()"
   ]
  },
  {
   "cell_type": "code",
   "execution_count": 221,
   "metadata": {
    "collapsed": false
   },
   "outputs": [],
   "source": [
    "#Create function to standardize all of the State names in the dataframe.\n",
    "\n",
    "def clean_state(row):\n",
    "    if row == 'North Holland':\n",
    "        return 'North Holland'\n",
    "    else:\n",
    "        return 'North Holland'"
   ]
  },
  {
   "cell_type": "code",
   "execution_count": 222,
   "metadata": {
    "collapsed": false
   },
   "outputs": [],
   "source": [
    "#Apply clean_state function to dataframe and insert data into new column.\n",
    "\n",
    "df['clean_state'] = df['state'].apply(clean_state)"
   ]
  },
  {
   "cell_type": "code",
   "execution_count": 223,
   "metadata": {
    "collapsed": false
   },
   "outputs": [
    {
     "name": "stdout",
     "output_type": "stream",
     "text": [
      "['North Holland' 'Noord-Holland' 'NH' nan 'Amsterdam' 'Noord holland'\n",
      " 'Jordaan' 'Noordholland' 'Northholland' 'Noord Holland'\n",
      " 'Jordaan Amsterdam' 'Holland' 'Nieuwe Hoogstraat' 'Daniel Stalpertstraat'\n",
      " 'Jordaan/center' 'GN' 'SV' 'XH' 'Nl' 'Olanda Settentrionale' 'NC' 'MH'\n",
      " 'Bx']\n",
      "***\n"
     ]
    },
    {
     "data": {
      "text/plain": [
       "23"
      ]
     },
     "execution_count": 223,
     "metadata": {},
     "output_type": "execute_result"
    }
   ],
   "source": [
    "#List the unique values in the state column.\n",
    "\n",
    "print(df.state.unique())\n",
    "print('***')\n",
    "len(df.state.unique())\n",
    "\n",
    "#Data shows that there are 23 different values in the state column."
   ]
  },
  {
   "cell_type": "code",
   "execution_count": 224,
   "metadata": {
    "collapsed": false
   },
   "outputs": [
    {
     "name": "stdout",
     "output_type": "stream",
     "text": [
      "['North Holland']\n",
      "***\n"
     ]
    },
    {
     "data": {
      "text/plain": [
       "1"
      ]
     },
     "execution_count": 224,
     "metadata": {},
     "output_type": "execute_result"
    }
   ],
   "source": [
    "#List the unique values in the state column.\n",
    "\n",
    "print(df.clean_state.unique())\n",
    "print('***')\n",
    "len(df.clean_state.unique())\n",
    "\n",
    "#Data shows that there are 1 value in the state column."
   ]
  },
  {
   "cell_type": "code",
   "execution_count": 225,
   "metadata": {
    "collapsed": false
   },
   "outputs": [
    {
     "data": {
      "text/plain": [
       "20"
      ]
     },
     "execution_count": 225,
     "metadata": {},
     "output_type": "execute_result"
    }
   ],
   "source": [
    "#Determine the total number of duplicates in dataframe based on the id column.\n",
    "\n",
    "df.id.duplicated().sum()"
   ]
  },
  {
   "cell_type": "code",
   "execution_count": 226,
   "metadata": {
    "collapsed": false
   },
   "outputs": [
    {
     "data": {
      "text/plain": [
       "20"
      ]
     },
     "execution_count": 226,
     "metadata": {},
     "output_type": "execute_result"
    }
   ],
   "source": [
    "#Determine the total number of rows that have duplicates in dataframe based on the id column.\n",
    "\n",
    "df.duplicated().sum()"
   ]
  },
  {
   "cell_type": "code",
   "execution_count": 227,
   "metadata": {
    "collapsed": false
   },
   "outputs": [],
   "source": [
    "#Generate dataframe that remove all duplicates, abut keeps the first entry.\n",
    "\n",
    "df_no_duplicate = df.drop_duplicates(keep='first')"
   ]
  },
  {
   "cell_type": "code",
   "execution_count": 228,
   "metadata": {
    "collapsed": false
   },
   "outputs": [
    {
     "data": {
      "text/plain": [
       "(7813, 34)"
      ]
     },
     "execution_count": 228,
     "metadata": {},
     "output_type": "execute_result"
    }
   ],
   "source": [
    "#Check the shape of the new dataframe.  \n",
    "#From this, 20 rows have been removed. \n",
    "#Total number of rows is now 7,813.\n",
    "\n",
    "df_no_duplicate.shape"
   ]
  },
  {
   "cell_type": "code",
   "execution_count": 229,
   "metadata": {
    "collapsed": false
   },
   "outputs": [
    {
     "data": {
      "text/html": [
       "<div>\n",
       "<table border=\"1\" class=\"dataframe\">\n",
       "  <thead>\n",
       "    <tr style=\"text-align: right;\">\n",
       "      <th></th>\n",
       "      <th>host_id</th>\n",
       "      <th>host_name</th>\n",
       "      <th>host_since_year</th>\n",
       "      <th>host_since_anniversary</th>\n",
       "      <th>id</th>\n",
       "      <th>neighbourhood_cleansed</th>\n",
       "      <th>city</th>\n",
       "      <th>state</th>\n",
       "      <th>zipcode</th>\n",
       "      <th>country</th>\n",
       "      <th>...</th>\n",
       "      <th>host_response_rate</th>\n",
       "      <th>number_of_reviews</th>\n",
       "      <th>review_scores_rating</th>\n",
       "      <th>review_scores_accuracy</th>\n",
       "      <th>review_scores_cleanliness</th>\n",
       "      <th>review_scores_checkin</th>\n",
       "      <th>review_scores_communication</th>\n",
       "      <th>review_scores_location</th>\n",
       "      <th>review_scores_value</th>\n",
       "      <th>clean_state</th>\n",
       "    </tr>\n",
       "  </thead>\n",
       "  <tbody>\n",
       "    <tr>\n",
       "      <th>0</th>\n",
       "      <td>1662</td>\n",
       "      <td>Chloe</td>\n",
       "      <td>2008</td>\n",
       "      <td>8/11</td>\n",
       "      <td>304958</td>\n",
       "      <td>Westerpark</td>\n",
       "      <td>Amsterdam</td>\n",
       "      <td>North Holland</td>\n",
       "      <td>1053</td>\n",
       "      <td>Netherlands</td>\n",
       "      <td>...</td>\n",
       "      <td>0.80</td>\n",
       "      <td>11</td>\n",
       "      <td>98.0</td>\n",
       "      <td>10.0</td>\n",
       "      <td>10.0</td>\n",
       "      <td>9.0</td>\n",
       "      <td>10.0</td>\n",
       "      <td>10.0</td>\n",
       "      <td>10.0</td>\n",
       "      <td>North Holland</td>\n",
       "    </tr>\n",
       "    <tr>\n",
       "      <th>1</th>\n",
       "      <td>3159</td>\n",
       "      <td>Daniel</td>\n",
       "      <td>2008</td>\n",
       "      <td>9/24</td>\n",
       "      <td>2818</td>\n",
       "      <td>Oostelijk Havengebied - Indische Buurt</td>\n",
       "      <td>Amsterdam</td>\n",
       "      <td>North Holland</td>\n",
       "      <td>NaN</td>\n",
       "      <td>Netherlands</td>\n",
       "      <td>...</td>\n",
       "      <td>1.00</td>\n",
       "      <td>108</td>\n",
       "      <td>97.0</td>\n",
       "      <td>10.0</td>\n",
       "      <td>10.0</td>\n",
       "      <td>10.0</td>\n",
       "      <td>10.0</td>\n",
       "      <td>9.0</td>\n",
       "      <td>10.0</td>\n",
       "      <td>North Holland</td>\n",
       "    </tr>\n",
       "    <tr>\n",
       "      <th>2</th>\n",
       "      <td>3718</td>\n",
       "      <td>Britta</td>\n",
       "      <td>2008</td>\n",
       "      <td>10/19</td>\n",
       "      <td>103026</td>\n",
       "      <td>De Baarsjes - Oud-West</td>\n",
       "      <td>Amsterdam</td>\n",
       "      <td>Noord-Holland</td>\n",
       "      <td>1053</td>\n",
       "      <td>Netherlands</td>\n",
       "      <td>...</td>\n",
       "      <td>1.00</td>\n",
       "      <td>15</td>\n",
       "      <td>92.0</td>\n",
       "      <td>9.0</td>\n",
       "      <td>9.0</td>\n",
       "      <td>10.0</td>\n",
       "      <td>10.0</td>\n",
       "      <td>9.0</td>\n",
       "      <td>9.0</td>\n",
       "      <td>North Holland</td>\n",
       "    </tr>\n",
       "    <tr>\n",
       "      <th>3</th>\n",
       "      <td>4716</td>\n",
       "      <td>Stefan</td>\n",
       "      <td>2008</td>\n",
       "      <td>11/30</td>\n",
       "      <td>550017</td>\n",
       "      <td>Centrum-Oost</td>\n",
       "      <td>Amsterdam</td>\n",
       "      <td>North Holland</td>\n",
       "      <td>1017</td>\n",
       "      <td>Netherlands</td>\n",
       "      <td>...</td>\n",
       "      <td>1.00</td>\n",
       "      <td>20</td>\n",
       "      <td>97.0</td>\n",
       "      <td>10.0</td>\n",
       "      <td>10.0</td>\n",
       "      <td>10.0</td>\n",
       "      <td>10.0</td>\n",
       "      <td>10.0</td>\n",
       "      <td>10.0</td>\n",
       "      <td>North Holland</td>\n",
       "    </tr>\n",
       "    <tr>\n",
       "      <th>4</th>\n",
       "      <td>5271</td>\n",
       "      <td>Tyler</td>\n",
       "      <td>2008</td>\n",
       "      <td>12/17</td>\n",
       "      <td>4728389</td>\n",
       "      <td>Centrum-West</td>\n",
       "      <td>Amsterdam</td>\n",
       "      <td>Noord-Holland</td>\n",
       "      <td>1016 AM</td>\n",
       "      <td>Netherlands</td>\n",
       "      <td>...</td>\n",
       "      <td>0.89</td>\n",
       "      <td>1</td>\n",
       "      <td>100.0</td>\n",
       "      <td>8.0</td>\n",
       "      <td>10.0</td>\n",
       "      <td>8.0</td>\n",
       "      <td>10.0</td>\n",
       "      <td>10.0</td>\n",
       "      <td>6.0</td>\n",
       "      <td>North Holland</td>\n",
       "    </tr>\n",
       "  </tbody>\n",
       "</table>\n",
       "<p>5 rows × 34 columns</p>\n",
       "</div>"
      ],
      "text/plain": [
       "   host_id host_name  host_since_year host_since_anniversary       id  \\\n",
       "0     1662     Chloe             2008                   8/11   304958   \n",
       "1     3159    Daniel             2008                   9/24     2818   \n",
       "2     3718    Britta             2008                  10/19   103026   \n",
       "3     4716    Stefan             2008                  11/30   550017   \n",
       "4     5271     Tyler             2008                  12/17  4728389   \n",
       "\n",
       "                   neighbourhood_cleansed       city          state  zipcode  \\\n",
       "0                              Westerpark  Amsterdam  North Holland     1053   \n",
       "1  Oostelijk Havengebied - Indische Buurt  Amsterdam  North Holland      NaN   \n",
       "2                  De Baarsjes - Oud-West  Amsterdam  Noord-Holland     1053   \n",
       "3                            Centrum-Oost  Amsterdam  North Holland     1017   \n",
       "4                            Centrum-West  Amsterdam  Noord-Holland  1016 AM   \n",
       "\n",
       "       country      ...        host_response_rate  number_of_reviews  \\\n",
       "0  Netherlands      ...                      0.80                 11   \n",
       "1  Netherlands      ...                      1.00                108   \n",
       "2  Netherlands      ...                      1.00                 15   \n",
       "3  Netherlands      ...                      1.00                 20   \n",
       "4  Netherlands      ...                      0.89                  1   \n",
       "\n",
       "  review_scores_rating review_scores_accuracy  review_scores_cleanliness  \\\n",
       "0                 98.0                   10.0                       10.0   \n",
       "1                 97.0                   10.0                       10.0   \n",
       "2                 92.0                    9.0                        9.0   \n",
       "3                 97.0                   10.0                       10.0   \n",
       "4                100.0                    8.0                       10.0   \n",
       "\n",
       "   review_scores_checkin  review_scores_communication  review_scores_location  \\\n",
       "0                    9.0                         10.0                    10.0   \n",
       "1                   10.0                         10.0                     9.0   \n",
       "2                   10.0                         10.0                     9.0   \n",
       "3                   10.0                         10.0                    10.0   \n",
       "4                    8.0                         10.0                    10.0   \n",
       "\n",
       "  review_scores_value    clean_state  \n",
       "0                10.0  North Holland  \n",
       "1                10.0  North Holland  \n",
       "2                 9.0  North Holland  \n",
       "3                10.0  North Holland  \n",
       "4                 6.0  North Holland  \n",
       "\n",
       "[5 rows x 34 columns]"
      ]
     },
     "execution_count": 229,
     "metadata": {},
     "output_type": "execute_result"
    }
   ],
   "source": [
    "#Display the head of the new dataframe that doesnot contain any duplicates of the \"id\" column.\n",
    "\n",
    "df_no_duplicate.head()"
   ]
  },
  {
   "cell_type": "code",
   "execution_count": 230,
   "metadata": {
    "collapsed": false
   },
   "outputs": [
    {
     "data": {
      "text/plain": [
       "0"
      ]
     },
     "execution_count": 230,
     "metadata": {},
     "output_type": "execute_result"
    }
   ],
   "source": [
    "#Determine the min value in the column \"number_of_reviews.  \n",
    "#This notes that there are rows that contain 0 number of reviews in the \"number_of_reviews\" column.\n",
    "\n",
    "min(df_no_duplicate['number_of_reviews'].unique())"
   ]
  },
  {
   "cell_type": "code",
   "execution_count": 231,
   "metadata": {
    "collapsed": false
   },
   "outputs": [
    {
     "data": {
      "text/plain": [
       "(7813,)"
      ]
     },
     "execution_count": 231,
     "metadata": {},
     "output_type": "execute_result"
    }
   ],
   "source": [
    "#Number of rows in the dataset before filtering out the rows that contain zero reviews. \n",
    "\n",
    "df_no_duplicate['number_of_reviews'].shape"
   ]
  },
  {
   "cell_type": "code",
   "execution_count": 232,
   "metadata": {
    "collapsed": false
   },
   "outputs": [
    {
     "data": {
      "text/plain": [
       "(6192, 34)"
      ]
     },
     "execution_count": 232,
     "metadata": {},
     "output_type": "execute_result"
    }
   ],
   "source": [
    "#Drop all columns where  df_no_duplicate['number_of_reviews'] == 0\n",
    "#From original data set, a total of 1641 rows was removed. \n",
    "\n",
    "df_clean = df_no_duplicate[df_no_duplicate['number_of_reviews'] > 0]\n",
    "df_clean.shape"
   ]
  },
  {
   "cell_type": "code",
   "execution_count": 233,
   "metadata": {
    "collapsed": false
   },
   "outputs": [
    {
     "data": {
      "text/plain": [
       "1"
      ]
     },
     "execution_count": 233,
     "metadata": {},
     "output_type": "execute_result"
    }
   ],
   "source": [
    "#Determine the min value in the column \"number_of_reviews.  \n",
    "#This notes that there are rows that contain 1 reviews in the \"number_of_reviews\" column.\n",
    "#Shows that all rows in the dataframe contain at least one review in the \"number of reviews\" column.\n",
    "\n",
    "min(df_clean.number_of_reviews.unique())"
   ]
  },
  {
   "cell_type": "code",
   "execution_count": 234,
   "metadata": {
    "collapsed": false
   },
   "outputs": [
    {
     "data": {
      "text/html": [
       "<div>\n",
       "<table border=\"1\" class=\"dataframe\">\n",
       "  <thead>\n",
       "    <tr style=\"text-align: right;\">\n",
       "      <th></th>\n",
       "      <th>neighbourhood_cleansed</th>\n",
       "      <th>id</th>\n",
       "    </tr>\n",
       "  </thead>\n",
       "  <tbody>\n",
       "    <tr>\n",
       "      <th>0</th>\n",
       "      <td>Bijlmer-Centrum</td>\n",
       "      <td>20</td>\n",
       "    </tr>\n",
       "    <tr>\n",
       "      <th>1</th>\n",
       "      <td>Bijlmer-Oost</td>\n",
       "      <td>13</td>\n",
       "    </tr>\n",
       "    <tr>\n",
       "      <th>2</th>\n",
       "      <td>Bos en Lommer</td>\n",
       "      <td>275</td>\n",
       "    </tr>\n",
       "    <tr>\n",
       "      <th>3</th>\n",
       "      <td>Buitenveldert - Zuidas</td>\n",
       "      <td>61</td>\n",
       "    </tr>\n",
       "    <tr>\n",
       "      <th>4</th>\n",
       "      <td>Centrum-Oost</td>\n",
       "      <td>746</td>\n",
       "    </tr>\n",
       "    <tr>\n",
       "      <th>5</th>\n",
       "      <td>Centrum-West</td>\n",
       "      <td>1143</td>\n",
       "    </tr>\n",
       "    <tr>\n",
       "      <th>6</th>\n",
       "      <td>De Aker - Nieuw Sloten</td>\n",
       "      <td>26</td>\n",
       "    </tr>\n",
       "    <tr>\n",
       "      <th>7</th>\n",
       "      <td>De Baarsjes - Oud-West</td>\n",
       "      <td>989</td>\n",
       "    </tr>\n",
       "    <tr>\n",
       "      <th>8</th>\n",
       "      <td>De Pijp - Rivierenbuurt</td>\n",
       "      <td>751</td>\n",
       "    </tr>\n",
       "    <tr>\n",
       "      <th>9</th>\n",
       "      <td>Gaasperdam - Driemond</td>\n",
       "      <td>9</td>\n",
       "    </tr>\n",
       "    <tr>\n",
       "      <th>10</th>\n",
       "      <td>Geuzenveld - Slotermeer</td>\n",
       "      <td>47</td>\n",
       "    </tr>\n",
       "    <tr>\n",
       "      <th>11</th>\n",
       "      <td>IJburg - Zeeburgereiland</td>\n",
       "      <td>72</td>\n",
       "    </tr>\n",
       "    <tr>\n",
       "      <th>12</th>\n",
       "      <td>Noord-Oost</td>\n",
       "      <td>32</td>\n",
       "    </tr>\n",
       "    <tr>\n",
       "      <th>13</th>\n",
       "      <td>Noord-West</td>\n",
       "      <td>53</td>\n",
       "    </tr>\n",
       "    <tr>\n",
       "      <th>14</th>\n",
       "      <td>Oostelijk Havengebied - Indische Buurt</td>\n",
       "      <td>257</td>\n",
       "    </tr>\n",
       "    <tr>\n",
       "      <th>15</th>\n",
       "      <td>Osdorp</td>\n",
       "      <td>32</td>\n",
       "    </tr>\n",
       "    <tr>\n",
       "      <th>16</th>\n",
       "      <td>Oud-Noord</td>\n",
       "      <td>147</td>\n",
       "    </tr>\n",
       "    <tr>\n",
       "      <th>17</th>\n",
       "      <td>Oud-Oost</td>\n",
       "      <td>307</td>\n",
       "    </tr>\n",
       "    <tr>\n",
       "      <th>18</th>\n",
       "      <td>Slotervaart</td>\n",
       "      <td>108</td>\n",
       "    </tr>\n",
       "    <tr>\n",
       "      <th>19</th>\n",
       "      <td>Watergraafsmeer</td>\n",
       "      <td>126</td>\n",
       "    </tr>\n",
       "    <tr>\n",
       "      <th>20</th>\n",
       "      <td>Westerpark</td>\n",
       "      <td>550</td>\n",
       "    </tr>\n",
       "    <tr>\n",
       "      <th>21</th>\n",
       "      <td>Zuid</td>\n",
       "      <td>428</td>\n",
       "    </tr>\n",
       "  </tbody>\n",
       "</table>\n",
       "</div>"
      ],
      "text/plain": [
       "                    neighbourhood_cleansed    id\n",
       "0                          Bijlmer-Centrum    20\n",
       "1                             Bijlmer-Oost    13\n",
       "2                            Bos en Lommer   275\n",
       "3                   Buitenveldert - Zuidas    61\n",
       "4                             Centrum-Oost   746\n",
       "5                             Centrum-West  1143\n",
       "6                   De Aker - Nieuw Sloten    26\n",
       "7                   De Baarsjes - Oud-West   989\n",
       "8                  De Pijp - Rivierenbuurt   751\n",
       "9                    Gaasperdam - Driemond     9\n",
       "10                 Geuzenveld - Slotermeer    47\n",
       "11                IJburg - Zeeburgereiland    72\n",
       "12                              Noord-Oost    32\n",
       "13                              Noord-West    53\n",
       "14  Oostelijk Havengebied - Indische Buurt   257\n",
       "15                                  Osdorp    32\n",
       "16                               Oud-Noord   147\n",
       "17                                Oud-Oost   307\n",
       "18                             Slotervaart   108\n",
       "19                         Watergraafsmeer   126\n",
       "20                              Westerpark   550\n",
       "21                                    Zuid   428"
      ]
     },
     "execution_count": 234,
     "metadata": {},
     "output_type": "execute_result"
    }
   ],
   "source": [
    "#Generate groupby dataframe that shows the number of properties in each neighborhood in Amsterdam.\n",
    "\n",
    "group_num_properties = df_clean.groupby('neighbourhood_cleansed', as_index=False).id.count()\n",
    "group_num_properties"
   ]
  },
  {
   "cell_type": "code",
   "execution_count": 235,
   "metadata": {
    "collapsed": false
   },
   "outputs": [
    {
     "data": {
      "text/plain": [
       "count      22.000000\n",
       "mean      281.454545\n",
       "std       341.591057\n",
       "min         9.000000\n",
       "25%        35.750000\n",
       "50%       117.000000\n",
       "75%       397.750000\n",
       "max      1143.000000\n",
       "Name: id, dtype: float64"
      ]
     },
     "execution_count": 235,
     "metadata": {},
     "output_type": "execute_result"
    }
   ],
   "source": [
    "#Presents the descriptive statistics for the dataframe. \n",
    "\n",
    "group_num_properties['id'].describe()"
   ]
  },
  {
   "cell_type": "code",
   "execution_count": 236,
   "metadata": {
    "collapsed": false
   },
   "outputs": [
    {
     "data": {
      "text/html": [
       "<div>\n",
       "<table border=\"1\" class=\"dataframe\">\n",
       "  <thead>\n",
       "    <tr style=\"text-align: right;\">\n",
       "      <th></th>\n",
       "      <th>neighbourhood_cleansed</th>\n",
       "      <th>review_scores_rating</th>\n",
       "    </tr>\n",
       "  </thead>\n",
       "  <tbody>\n",
       "    <tr>\n",
       "      <th>0</th>\n",
       "      <td>Bijlmer-Centrum</td>\n",
       "      <td>87.684211</td>\n",
       "    </tr>\n",
       "    <tr>\n",
       "      <th>1</th>\n",
       "      <td>Bijlmer-Oost</td>\n",
       "      <td>87.769231</td>\n",
       "    </tr>\n",
       "    <tr>\n",
       "      <th>2</th>\n",
       "      <td>Bos en Lommer</td>\n",
       "      <td>92.992620</td>\n",
       "    </tr>\n",
       "    <tr>\n",
       "      <th>3</th>\n",
       "      <td>Buitenveldert - Zuidas</td>\n",
       "      <td>91.573770</td>\n",
       "    </tr>\n",
       "    <tr>\n",
       "      <th>4</th>\n",
       "      <td>Centrum-Oost</td>\n",
       "      <td>93.912162</td>\n",
       "    </tr>\n",
       "    <tr>\n",
       "      <th>5</th>\n",
       "      <td>Centrum-West</td>\n",
       "      <td>93.064889</td>\n",
       "    </tr>\n",
       "    <tr>\n",
       "      <th>6</th>\n",
       "      <td>De Aker - Nieuw Sloten</td>\n",
       "      <td>90.961538</td>\n",
       "    </tr>\n",
       "    <tr>\n",
       "      <th>7</th>\n",
       "      <td>De Baarsjes - Oud-West</td>\n",
       "      <td>93.294416</td>\n",
       "    </tr>\n",
       "    <tr>\n",
       "      <th>8</th>\n",
       "      <td>De Pijp - Rivierenbuurt</td>\n",
       "      <td>93.688591</td>\n",
       "    </tr>\n",
       "    <tr>\n",
       "      <th>9</th>\n",
       "      <td>Gaasperdam - Driemond</td>\n",
       "      <td>92.444444</td>\n",
       "    </tr>\n",
       "    <tr>\n",
       "      <th>10</th>\n",
       "      <td>Geuzenveld - Slotermeer</td>\n",
       "      <td>90.860465</td>\n",
       "    </tr>\n",
       "    <tr>\n",
       "      <th>11</th>\n",
       "      <td>IJburg - Zeeburgereiland</td>\n",
       "      <td>95.056338</td>\n",
       "    </tr>\n",
       "    <tr>\n",
       "      <th>12</th>\n",
       "      <td>Noord-Oost</td>\n",
       "      <td>89.531250</td>\n",
       "    </tr>\n",
       "    <tr>\n",
       "      <th>13</th>\n",
       "      <td>Noord-West</td>\n",
       "      <td>92.480769</td>\n",
       "    </tr>\n",
       "    <tr>\n",
       "      <th>14</th>\n",
       "      <td>Oostelijk Havengebied - Indische Buurt</td>\n",
       "      <td>93.691406</td>\n",
       "    </tr>\n",
       "    <tr>\n",
       "      <th>15</th>\n",
       "      <td>Osdorp</td>\n",
       "      <td>92.129032</td>\n",
       "    </tr>\n",
       "    <tr>\n",
       "      <th>16</th>\n",
       "      <td>Oud-Noord</td>\n",
       "      <td>92.684932</td>\n",
       "    </tr>\n",
       "    <tr>\n",
       "      <th>17</th>\n",
       "      <td>Oud-Oost</td>\n",
       "      <td>93.554455</td>\n",
       "    </tr>\n",
       "    <tr>\n",
       "      <th>18</th>\n",
       "      <td>Slotervaart</td>\n",
       "      <td>94.415094</td>\n",
       "    </tr>\n",
       "    <tr>\n",
       "      <th>19</th>\n",
       "      <td>Watergraafsmeer</td>\n",
       "      <td>92.600000</td>\n",
       "    </tr>\n",
       "    <tr>\n",
       "      <th>20</th>\n",
       "      <td>Westerpark</td>\n",
       "      <td>93.401487</td>\n",
       "    </tr>\n",
       "    <tr>\n",
       "      <th>21</th>\n",
       "      <td>Zuid</td>\n",
       "      <td>93.771971</td>\n",
       "    </tr>\n",
       "  </tbody>\n",
       "</table>\n",
       "</div>"
      ],
      "text/plain": [
       "                    neighbourhood_cleansed  review_scores_rating\n",
       "0                          Bijlmer-Centrum             87.684211\n",
       "1                             Bijlmer-Oost             87.769231\n",
       "2                            Bos en Lommer             92.992620\n",
       "3                   Buitenveldert - Zuidas             91.573770\n",
       "4                             Centrum-Oost             93.912162\n",
       "5                             Centrum-West             93.064889\n",
       "6                   De Aker - Nieuw Sloten             90.961538\n",
       "7                   De Baarsjes - Oud-West             93.294416\n",
       "8                  De Pijp - Rivierenbuurt             93.688591\n",
       "9                    Gaasperdam - Driemond             92.444444\n",
       "10                 Geuzenveld - Slotermeer             90.860465\n",
       "11                IJburg - Zeeburgereiland             95.056338\n",
       "12                              Noord-Oost             89.531250\n",
       "13                              Noord-West             92.480769\n",
       "14  Oostelijk Havengebied - Indische Buurt             93.691406\n",
       "15                                  Osdorp             92.129032\n",
       "16                               Oud-Noord             92.684932\n",
       "17                                Oud-Oost             93.554455\n",
       "18                             Slotervaart             94.415094\n",
       "19                         Watergraafsmeer             92.600000\n",
       "20                              Westerpark             93.401487\n",
       "21                                    Zuid             93.771971"
      ]
     },
     "execution_count": 236,
     "metadata": {},
     "output_type": "execute_result"
    }
   ],
   "source": [
    "#Generate groupby dataframe that calculates the average rating of the properties in each neighborhood in Amsterdam.\n",
    "\n",
    "group_ave_rating = df_clean.groupby('neighbourhood_cleansed', as_index=False).review_scores_rating.mean()\n",
    "group_ave_rating"
   ]
  },
  {
   "cell_type": "code",
   "execution_count": 237,
   "metadata": {
    "collapsed": false
   },
   "outputs": [
    {
     "data": {
      "text/plain": [
       "count    22.000000\n",
       "mean     92.343776\n",
       "std       1.948270\n",
       "min      87.684211\n",
       "25%      91.712586\n",
       "50%      92.838776\n",
       "75%      93.655057\n",
       "max      95.056338\n",
       "Name: review_scores_rating, dtype: float64"
      ]
     },
     "execution_count": 237,
     "metadata": {},
     "output_type": "execute_result"
    }
   ],
   "source": [
    "#Presents the descriptive statistics for the dataframe. \n",
    "\n",
    "group_ave_rating['review_scores_rating'].describe()"
   ]
  },
  {
   "cell_type": "code",
   "execution_count": 238,
   "metadata": {
    "collapsed": false
   },
   "outputs": [
    {
     "data": {
      "text/html": [
       "<div>\n",
       "<table border=\"1\" class=\"dataframe\">\n",
       "  <thead>\n",
       "    <tr style=\"text-align: right;\">\n",
       "      <th></th>\n",
       "      <th>neighbourhood_cleansed</th>\n",
       "      <th>number_of_reviews</th>\n",
       "    </tr>\n",
       "  </thead>\n",
       "  <tbody>\n",
       "    <tr>\n",
       "      <th>0</th>\n",
       "      <td>Bijlmer-Centrum</td>\n",
       "      <td>207</td>\n",
       "    </tr>\n",
       "    <tr>\n",
       "      <th>1</th>\n",
       "      <td>Bijlmer-Oost</td>\n",
       "      <td>141</td>\n",
       "    </tr>\n",
       "    <tr>\n",
       "      <th>2</th>\n",
       "      <td>Bos en Lommer</td>\n",
       "      <td>4045</td>\n",
       "    </tr>\n",
       "    <tr>\n",
       "      <th>3</th>\n",
       "      <td>Buitenveldert - Zuidas</td>\n",
       "      <td>590</td>\n",
       "    </tr>\n",
       "    <tr>\n",
       "      <th>4</th>\n",
       "      <td>Centrum-Oost</td>\n",
       "      <td>15487</td>\n",
       "    </tr>\n",
       "    <tr>\n",
       "      <th>5</th>\n",
       "      <td>Centrum-West</td>\n",
       "      <td>26717</td>\n",
       "    </tr>\n",
       "    <tr>\n",
       "      <th>6</th>\n",
       "      <td>De Aker - Nieuw Sloten</td>\n",
       "      <td>412</td>\n",
       "    </tr>\n",
       "    <tr>\n",
       "      <th>7</th>\n",
       "      <td>De Baarsjes - Oud-West</td>\n",
       "      <td>18440</td>\n",
       "    </tr>\n",
       "    <tr>\n",
       "      <th>8</th>\n",
       "      <td>De Pijp - Rivierenbuurt</td>\n",
       "      <td>11393</td>\n",
       "    </tr>\n",
       "    <tr>\n",
       "      <th>9</th>\n",
       "      <td>Gaasperdam - Driemond</td>\n",
       "      <td>78</td>\n",
       "    </tr>\n",
       "    <tr>\n",
       "      <th>10</th>\n",
       "      <td>Geuzenveld - Slotermeer</td>\n",
       "      <td>667</td>\n",
       "    </tr>\n",
       "    <tr>\n",
       "      <th>11</th>\n",
       "      <td>IJburg - Zeeburgereiland</td>\n",
       "      <td>1042</td>\n",
       "    </tr>\n",
       "    <tr>\n",
       "      <th>12</th>\n",
       "      <td>Noord-Oost</td>\n",
       "      <td>486</td>\n",
       "    </tr>\n",
       "    <tr>\n",
       "      <th>13</th>\n",
       "      <td>Noord-West</td>\n",
       "      <td>932</td>\n",
       "    </tr>\n",
       "    <tr>\n",
       "      <th>14</th>\n",
       "      <td>Oostelijk Havengebied - Indische Buurt</td>\n",
       "      <td>3552</td>\n",
       "    </tr>\n",
       "    <tr>\n",
       "      <th>15</th>\n",
       "      <td>Osdorp</td>\n",
       "      <td>599</td>\n",
       "    </tr>\n",
       "    <tr>\n",
       "      <th>16</th>\n",
       "      <td>Oud-Noord</td>\n",
       "      <td>2105</td>\n",
       "    </tr>\n",
       "    <tr>\n",
       "      <th>17</th>\n",
       "      <td>Oud-Oost</td>\n",
       "      <td>3603</td>\n",
       "    </tr>\n",
       "    <tr>\n",
       "      <th>18</th>\n",
       "      <td>Slotervaart</td>\n",
       "      <td>1705</td>\n",
       "    </tr>\n",
       "    <tr>\n",
       "      <th>19</th>\n",
       "      <td>Watergraafsmeer</td>\n",
       "      <td>1468</td>\n",
       "    </tr>\n",
       "    <tr>\n",
       "      <th>20</th>\n",
       "      <td>Westerpark</td>\n",
       "      <td>8234</td>\n",
       "    </tr>\n",
       "    <tr>\n",
       "      <th>21</th>\n",
       "      <td>Zuid</td>\n",
       "      <td>6139</td>\n",
       "    </tr>\n",
       "  </tbody>\n",
       "</table>\n",
       "</div>"
      ],
      "text/plain": [
       "                    neighbourhood_cleansed  number_of_reviews\n",
       "0                          Bijlmer-Centrum                207\n",
       "1                             Bijlmer-Oost                141\n",
       "2                            Bos en Lommer               4045\n",
       "3                   Buitenveldert - Zuidas                590\n",
       "4                             Centrum-Oost              15487\n",
       "5                             Centrum-West              26717\n",
       "6                   De Aker - Nieuw Sloten                412\n",
       "7                   De Baarsjes - Oud-West              18440\n",
       "8                  De Pijp - Rivierenbuurt              11393\n",
       "9                    Gaasperdam - Driemond                 78\n",
       "10                 Geuzenveld - Slotermeer                667\n",
       "11                IJburg - Zeeburgereiland               1042\n",
       "12                              Noord-Oost                486\n",
       "13                              Noord-West                932\n",
       "14  Oostelijk Havengebied - Indische Buurt               3552\n",
       "15                                  Osdorp                599\n",
       "16                               Oud-Noord               2105\n",
       "17                                Oud-Oost               3603\n",
       "18                             Slotervaart               1705\n",
       "19                         Watergraafsmeer               1468\n",
       "20                              Westerpark               8234\n",
       "21                                    Zuid               6139"
      ]
     },
     "execution_count": 238,
     "metadata": {},
     "output_type": "execute_result"
    }
   ],
   "source": [
    "#Generate groupby dataframe that calculates the total number of reviws in each neighborhood in Amsterdam.\n",
    "\n",
    "group_num_reviews = df_clean.groupby('neighbourhood_cleansed', as_index=False).number_of_reviews.sum()\n",
    "group_num_reviews"
   ]
  },
  {
   "cell_type": "code",
   "execution_count": 239,
   "metadata": {
    "collapsed": false
   },
   "outputs": [
    {
     "data": {
      "text/plain": [
       "count       22.00000\n",
       "mean      4911.00000\n",
       "std       7082.52533\n",
       "min         78.00000\n",
       "25%        592.25000\n",
       "50%       1586.50000\n",
       "75%       5615.50000\n",
       "max      26717.00000\n",
       "Name: number_of_reviews, dtype: float64"
      ]
     },
     "execution_count": 239,
     "metadata": {},
     "output_type": "execute_result"
    }
   ],
   "source": [
    "#Presents the descriptive statistics for the dataframe. \n",
    "\n",
    "group_num_reviews['number_of_reviews'].describe()"
   ]
  },
  {
   "cell_type": "code",
   "execution_count": 240,
   "metadata": {
    "collapsed": false
   },
   "outputs": [
    {
     "data": {
      "text/html": [
       "<div>\n",
       "<table border=\"1\" class=\"dataframe\">\n",
       "  <thead>\n",
       "    <tr style=\"text-align: right;\">\n",
       "      <th></th>\n",
       "      <th>neighbourhood_cleansed</th>\n",
       "      <th>id</th>\n",
       "    </tr>\n",
       "  </thead>\n",
       "  <tbody>\n",
       "    <tr>\n",
       "      <th>0</th>\n",
       "      <td>Bijlmer-Centrum</td>\n",
       "      <td>20</td>\n",
       "    </tr>\n",
       "    <tr>\n",
       "      <th>1</th>\n",
       "      <td>Bijlmer-Oost</td>\n",
       "      <td>13</td>\n",
       "    </tr>\n",
       "    <tr>\n",
       "      <th>2</th>\n",
       "      <td>Bos en Lommer</td>\n",
       "      <td>275</td>\n",
       "    </tr>\n",
       "    <tr>\n",
       "      <th>3</th>\n",
       "      <td>Buitenveldert - Zuidas</td>\n",
       "      <td>61</td>\n",
       "    </tr>\n",
       "    <tr>\n",
       "      <th>4</th>\n",
       "      <td>Centrum-Oost</td>\n",
       "      <td>746</td>\n",
       "    </tr>\n",
       "    <tr>\n",
       "      <th>5</th>\n",
       "      <td>Centrum-West</td>\n",
       "      <td>1143</td>\n",
       "    </tr>\n",
       "    <tr>\n",
       "      <th>6</th>\n",
       "      <td>De Aker - Nieuw Sloten</td>\n",
       "      <td>26</td>\n",
       "    </tr>\n",
       "    <tr>\n",
       "      <th>7</th>\n",
       "      <td>De Baarsjes - Oud-West</td>\n",
       "      <td>989</td>\n",
       "    </tr>\n",
       "    <tr>\n",
       "      <th>8</th>\n",
       "      <td>De Pijp - Rivierenbuurt</td>\n",
       "      <td>751</td>\n",
       "    </tr>\n",
       "    <tr>\n",
       "      <th>9</th>\n",
       "      <td>Gaasperdam - Driemond</td>\n",
       "      <td>9</td>\n",
       "    </tr>\n",
       "    <tr>\n",
       "      <th>10</th>\n",
       "      <td>Geuzenveld - Slotermeer</td>\n",
       "      <td>47</td>\n",
       "    </tr>\n",
       "    <tr>\n",
       "      <th>11</th>\n",
       "      <td>IJburg - Zeeburgereiland</td>\n",
       "      <td>72</td>\n",
       "    </tr>\n",
       "    <tr>\n",
       "      <th>12</th>\n",
       "      <td>Noord-Oost</td>\n",
       "      <td>32</td>\n",
       "    </tr>\n",
       "    <tr>\n",
       "      <th>13</th>\n",
       "      <td>Noord-West</td>\n",
       "      <td>53</td>\n",
       "    </tr>\n",
       "    <tr>\n",
       "      <th>14</th>\n",
       "      <td>Oostelijk Havengebied - Indische Buurt</td>\n",
       "      <td>257</td>\n",
       "    </tr>\n",
       "    <tr>\n",
       "      <th>15</th>\n",
       "      <td>Osdorp</td>\n",
       "      <td>32</td>\n",
       "    </tr>\n",
       "    <tr>\n",
       "      <th>16</th>\n",
       "      <td>Oud-Noord</td>\n",
       "      <td>147</td>\n",
       "    </tr>\n",
       "    <tr>\n",
       "      <th>17</th>\n",
       "      <td>Oud-Oost</td>\n",
       "      <td>307</td>\n",
       "    </tr>\n",
       "    <tr>\n",
       "      <th>18</th>\n",
       "      <td>Slotervaart</td>\n",
       "      <td>108</td>\n",
       "    </tr>\n",
       "    <tr>\n",
       "      <th>19</th>\n",
       "      <td>Watergraafsmeer</td>\n",
       "      <td>126</td>\n",
       "    </tr>\n",
       "    <tr>\n",
       "      <th>20</th>\n",
       "      <td>Westerpark</td>\n",
       "      <td>550</td>\n",
       "    </tr>\n",
       "    <tr>\n",
       "      <th>21</th>\n",
       "      <td>Zuid</td>\n",
       "      <td>428</td>\n",
       "    </tr>\n",
       "  </tbody>\n",
       "</table>\n",
       "</div>"
      ],
      "text/plain": [
       "                    neighbourhood_cleansed    id\n",
       "0                          Bijlmer-Centrum    20\n",
       "1                             Bijlmer-Oost    13\n",
       "2                            Bos en Lommer   275\n",
       "3                   Buitenveldert - Zuidas    61\n",
       "4                             Centrum-Oost   746\n",
       "5                             Centrum-West  1143\n",
       "6                   De Aker - Nieuw Sloten    26\n",
       "7                   De Baarsjes - Oud-West   989\n",
       "8                  De Pijp - Rivierenbuurt   751\n",
       "9                    Gaasperdam - Driemond     9\n",
       "10                 Geuzenveld - Slotermeer    47\n",
       "11                IJburg - Zeeburgereiland    72\n",
       "12                              Noord-Oost    32\n",
       "13                              Noord-West    53\n",
       "14  Oostelijk Havengebied - Indische Buurt   257\n",
       "15                                  Osdorp    32\n",
       "16                               Oud-Noord   147\n",
       "17                                Oud-Oost   307\n",
       "18                             Slotervaart   108\n",
       "19                         Watergraafsmeer   126\n",
       "20                              Westerpark   550\n",
       "21                                    Zuid   428"
      ]
     },
     "execution_count": 240,
     "metadata": {},
     "output_type": "execute_result"
    }
   ],
   "source": [
    "#Generate groupby dataframe that calculates the total rentals within each neighborhood in Amsterdam.\n",
    "\n",
    "group_num_properties1 = df_clean.groupby('neighbourhood_cleansed', as_index=False).id.count()\n",
    "group_num_properties1"
   ]
  },
  {
   "cell_type": "code",
   "execution_count": 241,
   "metadata": {
    "collapsed": false
   },
   "outputs": [
    {
     "data": {
      "text/html": [
       "<div>\n",
       "<table border=\"1\" class=\"dataframe\">\n",
       "  <thead>\n",
       "    <tr style=\"text-align: right;\">\n",
       "      <th></th>\n",
       "      <th>neighbourhood_cleansed</th>\n",
       "      <th>number_of_properties</th>\n",
       "      <th>number_of_reviews</th>\n",
       "      <th>review_scores_rating</th>\n",
       "      <th>num_review_per_property</th>\n",
       "    </tr>\n",
       "  </thead>\n",
       "  <tbody>\n",
       "    <tr>\n",
       "      <th>5</th>\n",
       "      <td>Centrum-West</td>\n",
       "      <td>1143</td>\n",
       "      <td>26717</td>\n",
       "      <td>93.064889</td>\n",
       "      <td>23.374453</td>\n",
       "    </tr>\n",
       "    <tr>\n",
       "      <th>4</th>\n",
       "      <td>Centrum-Oost</td>\n",
       "      <td>746</td>\n",
       "      <td>15487</td>\n",
       "      <td>93.912162</td>\n",
       "      <td>20.760054</td>\n",
       "    </tr>\n",
       "    <tr>\n",
       "      <th>15</th>\n",
       "      <td>Osdorp</td>\n",
       "      <td>32</td>\n",
       "      <td>599</td>\n",
       "      <td>92.129032</td>\n",
       "      <td>18.718750</td>\n",
       "    </tr>\n",
       "    <tr>\n",
       "      <th>7</th>\n",
       "      <td>De Baarsjes - Oud-West</td>\n",
       "      <td>989</td>\n",
       "      <td>18440</td>\n",
       "      <td>93.294416</td>\n",
       "      <td>18.645096</td>\n",
       "    </tr>\n",
       "    <tr>\n",
       "      <th>13</th>\n",
       "      <td>Noord-West</td>\n",
       "      <td>53</td>\n",
       "      <td>932</td>\n",
       "      <td>92.480769</td>\n",
       "      <td>17.584906</td>\n",
       "    </tr>\n",
       "    <tr>\n",
       "      <th>6</th>\n",
       "      <td>De Aker - Nieuw Sloten</td>\n",
       "      <td>26</td>\n",
       "      <td>412</td>\n",
       "      <td>90.961538</td>\n",
       "      <td>15.846154</td>\n",
       "    </tr>\n",
       "    <tr>\n",
       "      <th>18</th>\n",
       "      <td>Slotervaart</td>\n",
       "      <td>108</td>\n",
       "      <td>1705</td>\n",
       "      <td>94.415094</td>\n",
       "      <td>15.787037</td>\n",
       "    </tr>\n",
       "    <tr>\n",
       "      <th>12</th>\n",
       "      <td>Noord-Oost</td>\n",
       "      <td>32</td>\n",
       "      <td>486</td>\n",
       "      <td>89.531250</td>\n",
       "      <td>15.187500</td>\n",
       "    </tr>\n",
       "    <tr>\n",
       "      <th>8</th>\n",
       "      <td>De Pijp - Rivierenbuurt</td>\n",
       "      <td>751</td>\n",
       "      <td>11393</td>\n",
       "      <td>93.688591</td>\n",
       "      <td>15.170439</td>\n",
       "    </tr>\n",
       "    <tr>\n",
       "      <th>20</th>\n",
       "      <td>Westerpark</td>\n",
       "      <td>550</td>\n",
       "      <td>8234</td>\n",
       "      <td>93.401487</td>\n",
       "      <td>14.970909</td>\n",
       "    </tr>\n",
       "    <tr>\n",
       "      <th>2</th>\n",
       "      <td>Bos en Lommer</td>\n",
       "      <td>275</td>\n",
       "      <td>4045</td>\n",
       "      <td>92.992620</td>\n",
       "      <td>14.709091</td>\n",
       "    </tr>\n",
       "    <tr>\n",
       "      <th>11</th>\n",
       "      <td>IJburg - Zeeburgereiland</td>\n",
       "      <td>72</td>\n",
       "      <td>1042</td>\n",
       "      <td>95.056338</td>\n",
       "      <td>14.472222</td>\n",
       "    </tr>\n",
       "    <tr>\n",
       "      <th>21</th>\n",
       "      <td>Zuid</td>\n",
       "      <td>428</td>\n",
       "      <td>6139</td>\n",
       "      <td>93.771971</td>\n",
       "      <td>14.343458</td>\n",
       "    </tr>\n",
       "    <tr>\n",
       "      <th>16</th>\n",
       "      <td>Oud-Noord</td>\n",
       "      <td>147</td>\n",
       "      <td>2105</td>\n",
       "      <td>92.684932</td>\n",
       "      <td>14.319728</td>\n",
       "    </tr>\n",
       "    <tr>\n",
       "      <th>10</th>\n",
       "      <td>Geuzenveld - Slotermeer</td>\n",
       "      <td>47</td>\n",
       "      <td>667</td>\n",
       "      <td>90.860465</td>\n",
       "      <td>14.191489</td>\n",
       "    </tr>\n",
       "    <tr>\n",
       "      <th>14</th>\n",
       "      <td>Oostelijk Havengebied - Indische Buurt</td>\n",
       "      <td>257</td>\n",
       "      <td>3552</td>\n",
       "      <td>93.691406</td>\n",
       "      <td>13.821012</td>\n",
       "    </tr>\n",
       "    <tr>\n",
       "      <th>17</th>\n",
       "      <td>Oud-Oost</td>\n",
       "      <td>307</td>\n",
       "      <td>3603</td>\n",
       "      <td>93.554455</td>\n",
       "      <td>11.736156</td>\n",
       "    </tr>\n",
       "    <tr>\n",
       "      <th>19</th>\n",
       "      <td>Watergraafsmeer</td>\n",
       "      <td>126</td>\n",
       "      <td>1468</td>\n",
       "      <td>92.600000</td>\n",
       "      <td>11.650794</td>\n",
       "    </tr>\n",
       "    <tr>\n",
       "      <th>1</th>\n",
       "      <td>Bijlmer-Oost</td>\n",
       "      <td>13</td>\n",
       "      <td>141</td>\n",
       "      <td>87.769231</td>\n",
       "      <td>10.846154</td>\n",
       "    </tr>\n",
       "    <tr>\n",
       "      <th>0</th>\n",
       "      <td>Bijlmer-Centrum</td>\n",
       "      <td>20</td>\n",
       "      <td>207</td>\n",
       "      <td>87.684211</td>\n",
       "      <td>10.350000</td>\n",
       "    </tr>\n",
       "    <tr>\n",
       "      <th>3</th>\n",
       "      <td>Buitenveldert - Zuidas</td>\n",
       "      <td>61</td>\n",
       "      <td>590</td>\n",
       "      <td>91.573770</td>\n",
       "      <td>9.672131</td>\n",
       "    </tr>\n",
       "    <tr>\n",
       "      <th>9</th>\n",
       "      <td>Gaasperdam - Driemond</td>\n",
       "      <td>9</td>\n",
       "      <td>78</td>\n",
       "      <td>92.444444</td>\n",
       "      <td>8.666667</td>\n",
       "    </tr>\n",
       "  </tbody>\n",
       "</table>\n",
       "</div>"
      ],
      "text/plain": [
       "                    neighbourhood_cleansed  number_of_properties  \\\n",
       "5                             Centrum-West                  1143   \n",
       "4                             Centrum-Oost                   746   \n",
       "15                                  Osdorp                    32   \n",
       "7                   De Baarsjes - Oud-West                   989   \n",
       "13                              Noord-West                    53   \n",
       "6                   De Aker - Nieuw Sloten                    26   \n",
       "18                             Slotervaart                   108   \n",
       "12                              Noord-Oost                    32   \n",
       "8                  De Pijp - Rivierenbuurt                   751   \n",
       "20                              Westerpark                   550   \n",
       "2                            Bos en Lommer                   275   \n",
       "11                IJburg - Zeeburgereiland                    72   \n",
       "21                                    Zuid                   428   \n",
       "16                               Oud-Noord                   147   \n",
       "10                 Geuzenveld - Slotermeer                    47   \n",
       "14  Oostelijk Havengebied - Indische Buurt                   257   \n",
       "17                                Oud-Oost                   307   \n",
       "19                         Watergraafsmeer                   126   \n",
       "1                             Bijlmer-Oost                    13   \n",
       "0                          Bijlmer-Centrum                    20   \n",
       "3                   Buitenveldert - Zuidas                    61   \n",
       "9                    Gaasperdam - Driemond                     9   \n",
       "\n",
       "    number_of_reviews  review_scores_rating  num_review_per_property  \n",
       "5               26717             93.064889                23.374453  \n",
       "4               15487             93.912162                20.760054  \n",
       "15                599             92.129032                18.718750  \n",
       "7               18440             93.294416                18.645096  \n",
       "13                932             92.480769                17.584906  \n",
       "6                 412             90.961538                15.846154  \n",
       "18               1705             94.415094                15.787037  \n",
       "12                486             89.531250                15.187500  \n",
       "8               11393             93.688591                15.170439  \n",
       "20               8234             93.401487                14.970909  \n",
       "2                4045             92.992620                14.709091  \n",
       "11               1042             95.056338                14.472222  \n",
       "21               6139             93.771971                14.343458  \n",
       "16               2105             92.684932                14.319728  \n",
       "10                667             90.860465                14.191489  \n",
       "14               3552             93.691406                13.821012  \n",
       "17               3603             93.554455                11.736156  \n",
       "19               1468             92.600000                11.650794  \n",
       "1                 141             87.769231                10.846154  \n",
       "0                 207             87.684211                10.350000  \n",
       "3                 590             91.573770                 9.672131  \n",
       "9                  78             92.444444                 8.666667  "
      ]
     },
     "execution_count": 241,
     "metadata": {},
     "output_type": "execute_result"
    }
   ],
   "source": [
    "#Merge multiple dataframes together, rename the columns, calculate the reviews per property metric and sort in decending order. \n",
    "\n",
    "df1 = group_num_properties1.merge(group_num_reviews, on=['neighbourhood_cleansed'], how='inner')\n",
    "group_df = df1.merge(group_ave_rating, on=['neighbourhood_cleansed'], how='inner')\n",
    "group_df['num_review_per_property'] = group_df['number_of_reviews'] / group_df['id']\n",
    "group_df.rename(columns={'id': 'number_of_properties'}, inplace=True)\n",
    "group_df.sort_values(['num_review_per_property'], ascending=False)"
   ]
  },
  {
   "cell_type": "code",
   "execution_count": 242,
   "metadata": {
    "collapsed": false
   },
   "outputs": [
    {
     "data": {
      "text/html": [
       "<div>\n",
       "<table border=\"1\" class=\"dataframe\">\n",
       "  <thead>\n",
       "    <tr style=\"text-align: right;\">\n",
       "      <th></th>\n",
       "      <th>room_type</th>\n",
       "      <th>number_of_rooms</th>\n",
       "    </tr>\n",
       "  </thead>\n",
       "  <tbody>\n",
       "    <tr>\n",
       "      <th>0</th>\n",
       "      <td>Entire home/apt</td>\n",
       "      <td>5001</td>\n",
       "    </tr>\n",
       "    <tr>\n",
       "      <th>1</th>\n",
       "      <td>Private room</td>\n",
       "      <td>1154</td>\n",
       "    </tr>\n",
       "    <tr>\n",
       "      <th>2</th>\n",
       "      <td>Shared room</td>\n",
       "      <td>37</td>\n",
       "    </tr>\n",
       "  </tbody>\n",
       "</table>\n",
       "</div>"
      ],
      "text/plain": [
       "         room_type  number_of_rooms\n",
       "0  Entire home/apt             5001\n",
       "1     Private room             1154\n",
       "2      Shared room               37"
      ]
     },
     "execution_count": 242,
     "metadata": {},
     "output_type": "execute_result"
    }
   ],
   "source": [
    "#Generate groupby dataframe that calculates the total rooms for each room type in Amsterdam.\n",
    "\n",
    "group_room_type_df = df_clean.groupby('room_type', as_index=False).id.count()\n",
    "group_room_type_df.rename(columns = {'id': 'number_of_rooms'}, inplace=True)\n",
    "group_room_type_df"
   ]
  },
  {
   "cell_type": "code",
   "execution_count": 243,
   "metadata": {
    "collapsed": false
   },
   "outputs": [
    {
     "data": {
      "text/html": [
       "<div>\n",
       "<table border=\"1\" class=\"dataframe\">\n",
       "  <thead>\n",
       "    <tr style=\"text-align: right;\">\n",
       "      <th></th>\n",
       "      <th>room_type</th>\n",
       "      <th>review_scores_rating</th>\n",
       "    </tr>\n",
       "  </thead>\n",
       "  <tbody>\n",
       "    <tr>\n",
       "      <th>0</th>\n",
       "      <td>Entire home/apt</td>\n",
       "      <td>93.933441</td>\n",
       "    </tr>\n",
       "    <tr>\n",
       "      <th>1</th>\n",
       "      <td>Private room</td>\n",
       "      <td>90.868306</td>\n",
       "    </tr>\n",
       "    <tr>\n",
       "      <th>2</th>\n",
       "      <td>Shared room</td>\n",
       "      <td>89.611111</td>\n",
       "    </tr>\n",
       "  </tbody>\n",
       "</table>\n",
       "</div>"
      ],
      "text/plain": [
       "         room_type  review_scores_rating\n",
       "0  Entire home/apt             93.933441\n",
       "1     Private room             90.868306\n",
       "2      Shared room             89.611111"
      ]
     },
     "execution_count": 243,
     "metadata": {},
     "output_type": "execute_result"
    }
   ],
   "source": [
    "#Generate groupby dataframe that calculates the average rating for each room type in Amsterdam.\n",
    "\n",
    "group_rm_reviews_df = df_clean.groupby('room_type', as_index=False).review_scores_rating.mean()\n",
    "group_rm_reviews_df"
   ]
  },
  {
   "cell_type": "code",
   "execution_count": 244,
   "metadata": {
    "collapsed": false
   },
   "outputs": [
    {
     "data": {
      "text/html": [
       "<div>\n",
       "<table border=\"1\" class=\"dataframe\">\n",
       "  <thead>\n",
       "    <tr style=\"text-align: right;\">\n",
       "      <th></th>\n",
       "      <th>room_type</th>\n",
       "      <th>number_of_reviews</th>\n",
       "    </tr>\n",
       "  </thead>\n",
       "  <tbody>\n",
       "    <tr>\n",
       "      <th>0</th>\n",
       "      <td>Entire home/apt</td>\n",
       "      <td>79517</td>\n",
       "    </tr>\n",
       "    <tr>\n",
       "      <th>1</th>\n",
       "      <td>Private room</td>\n",
       "      <td>28214</td>\n",
       "    </tr>\n",
       "    <tr>\n",
       "      <th>2</th>\n",
       "      <td>Shared room</td>\n",
       "      <td>311</td>\n",
       "    </tr>\n",
       "  </tbody>\n",
       "</table>\n",
       "</div>"
      ],
      "text/plain": [
       "         room_type  number_of_reviews\n",
       "0  Entire home/apt              79517\n",
       "1     Private room              28214\n",
       "2      Shared room                311"
      ]
     },
     "execution_count": 244,
     "metadata": {},
     "output_type": "execute_result"
    }
   ],
   "source": [
    "#Generate groupby dataframe that calculates the total number of reviews for each room type in Amsterdam.\n",
    "\n",
    "group_rev_count = df_clean.groupby('room_type', as_index=False).number_of_reviews.sum()\n",
    "group_rev_count"
   ]
  },
  {
   "cell_type": "code",
   "execution_count": 245,
   "metadata": {
    "collapsed": false
   },
   "outputs": [
    {
     "data": {
      "text/html": [
       "<div>\n",
       "<table border=\"1\" class=\"dataframe\">\n",
       "  <thead>\n",
       "    <tr style=\"text-align: right;\">\n",
       "      <th></th>\n",
       "      <th>room_type</th>\n",
       "      <th>number_of_rooms</th>\n",
       "      <th>review_scores_rating</th>\n",
       "      <th>number_of_reviews</th>\n",
       "      <th>reviews_per_room</th>\n",
       "    </tr>\n",
       "  </thead>\n",
       "  <tbody>\n",
       "    <tr>\n",
       "      <th>1</th>\n",
       "      <td>Private room</td>\n",
       "      <td>1154</td>\n",
       "      <td>90.868306</td>\n",
       "      <td>28214</td>\n",
       "      <td>24.448873</td>\n",
       "    </tr>\n",
       "    <tr>\n",
       "      <th>0</th>\n",
       "      <td>Entire home/apt</td>\n",
       "      <td>5001</td>\n",
       "      <td>93.933441</td>\n",
       "      <td>79517</td>\n",
       "      <td>15.900220</td>\n",
       "    </tr>\n",
       "    <tr>\n",
       "      <th>2</th>\n",
       "      <td>Shared room</td>\n",
       "      <td>37</td>\n",
       "      <td>89.611111</td>\n",
       "      <td>311</td>\n",
       "      <td>8.405405</td>\n",
       "    </tr>\n",
       "  </tbody>\n",
       "</table>\n",
       "</div>"
      ],
      "text/plain": [
       "         room_type  number_of_rooms  review_scores_rating  number_of_reviews  \\\n",
       "1     Private room             1154             90.868306              28214   \n",
       "0  Entire home/apt             5001             93.933441              79517   \n",
       "2      Shared room               37             89.611111                311   \n",
       "\n",
       "   reviews_per_room  \n",
       "1         24.448873  \n",
       "0         15.900220  \n",
       "2          8.405405  "
      ]
     },
     "execution_count": 245,
     "metadata": {},
     "output_type": "execute_result"
    }
   ],
   "source": [
    "#Merge multiple dataframes together, calculate the reviews per room metric and sort in decending order. \n",
    "\n",
    "df2 = group_room_type_df.merge(group_rm_reviews_df, on='room_type', how='inner')\n",
    "room_type_df = df2.merge(group_rev_count, on='room_type', how='inner')\n",
    "room_type_df['reviews_per_room'] = room_type_df['number_of_reviews'] / room_type_df['number_of_rooms']\n",
    "room_type_df.sort_values(['reviews_per_room'], ascending=False)"
   ]
  },
  {
   "cell_type": "code",
   "execution_count": 246,
   "metadata": {
    "collapsed": false
   },
   "outputs": [
    {
     "data": {
      "text/html": [
       "<div>\n",
       "<table border=\"1\" class=\"dataframe\">\n",
       "  <thead>\n",
       "    <tr style=\"text-align: right;\">\n",
       "      <th></th>\n",
       "      <th>property_type</th>\n",
       "      <th>number_of_properties</th>\n",
       "    </tr>\n",
       "  </thead>\n",
       "  <tbody>\n",
       "    <tr>\n",
       "      <th>0</th>\n",
       "      <td>Apartment</td>\n",
       "      <td>5027</td>\n",
       "    </tr>\n",
       "    <tr>\n",
       "      <th>1</th>\n",
       "      <td>Bed &amp; Breakfast</td>\n",
       "      <td>283</td>\n",
       "    </tr>\n",
       "    <tr>\n",
       "      <th>2</th>\n",
       "      <td>Boat</td>\n",
       "      <td>266</td>\n",
       "    </tr>\n",
       "    <tr>\n",
       "      <th>3</th>\n",
       "      <td>Cabin</td>\n",
       "      <td>9</td>\n",
       "    </tr>\n",
       "    <tr>\n",
       "      <th>4</th>\n",
       "      <td>Camper/RV</td>\n",
       "      <td>9</td>\n",
       "    </tr>\n",
       "    <tr>\n",
       "      <th>5</th>\n",
       "      <td>Chalet</td>\n",
       "      <td>1</td>\n",
       "    </tr>\n",
       "    <tr>\n",
       "      <th>6</th>\n",
       "      <td>Dorm</td>\n",
       "      <td>2</td>\n",
       "    </tr>\n",
       "    <tr>\n",
       "      <th>7</th>\n",
       "      <td>Earth House</td>\n",
       "      <td>1</td>\n",
       "    </tr>\n",
       "    <tr>\n",
       "      <th>8</th>\n",
       "      <td>House</td>\n",
       "      <td>511</td>\n",
       "    </tr>\n",
       "    <tr>\n",
       "      <th>9</th>\n",
       "      <td>Hut</td>\n",
       "      <td>1</td>\n",
       "    </tr>\n",
       "    <tr>\n",
       "      <th>10</th>\n",
       "      <td>Loft</td>\n",
       "      <td>56</td>\n",
       "    </tr>\n",
       "    <tr>\n",
       "      <th>11</th>\n",
       "      <td>Other</td>\n",
       "      <td>19</td>\n",
       "    </tr>\n",
       "    <tr>\n",
       "      <th>12</th>\n",
       "      <td>Villa</td>\n",
       "      <td>6</td>\n",
       "    </tr>\n",
       "    <tr>\n",
       "      <th>13</th>\n",
       "      <td>Yurt</td>\n",
       "      <td>1</td>\n",
       "    </tr>\n",
       "  </tbody>\n",
       "</table>\n",
       "</div>"
      ],
      "text/plain": [
       "      property_type  number_of_properties\n",
       "0         Apartment                  5027\n",
       "1   Bed & Breakfast                   283\n",
       "2              Boat                   266\n",
       "3             Cabin                     9\n",
       "4         Camper/RV                     9\n",
       "5            Chalet                     1\n",
       "6              Dorm                     2\n",
       "7       Earth House                     1\n",
       "8             House                   511\n",
       "9               Hut                     1\n",
       "10             Loft                    56\n",
       "11            Other                    19\n",
       "12            Villa                     6\n",
       "13             Yurt                     1"
      ]
     },
     "execution_count": 246,
     "metadata": {},
     "output_type": "execute_result"
    }
   ],
   "source": [
    "#Generate groupby dataframe that calculates the number of properties for each property type in Amsterdam.\n",
    "\n",
    "group_prop_type_df = df_clean.groupby('property_type', as_index=False).id.count()\n",
    "group_prop_type_df.rename(columns={'id': 'number_of_properties'}, inplace=True)\n",
    "group_prop_type_df"
   ]
  },
  {
   "cell_type": "code",
   "execution_count": 247,
   "metadata": {
    "collapsed": false
   },
   "outputs": [
    {
     "data": {
      "text/html": [
       "<div>\n",
       "<table border=\"1\" class=\"dataframe\">\n",
       "  <thead>\n",
       "    <tr style=\"text-align: right;\">\n",
       "      <th></th>\n",
       "      <th>property_type</th>\n",
       "      <th>number_of_reviews</th>\n",
       "    </tr>\n",
       "  </thead>\n",
       "  <tbody>\n",
       "    <tr>\n",
       "      <th>0</th>\n",
       "      <td>Apartment</td>\n",
       "      <td>83240</td>\n",
       "    </tr>\n",
       "    <tr>\n",
       "      <th>1</th>\n",
       "      <td>Bed &amp; Breakfast</td>\n",
       "      <td>9228</td>\n",
       "    </tr>\n",
       "    <tr>\n",
       "      <th>2</th>\n",
       "      <td>Boat</td>\n",
       "      <td>5694</td>\n",
       "    </tr>\n",
       "    <tr>\n",
       "      <th>3</th>\n",
       "      <td>Cabin</td>\n",
       "      <td>270</td>\n",
       "    </tr>\n",
       "    <tr>\n",
       "      <th>4</th>\n",
       "      <td>Camper/RV</td>\n",
       "      <td>126</td>\n",
       "    </tr>\n",
       "    <tr>\n",
       "      <th>5</th>\n",
       "      <td>Chalet</td>\n",
       "      <td>2</td>\n",
       "    </tr>\n",
       "    <tr>\n",
       "      <th>6</th>\n",
       "      <td>Dorm</td>\n",
       "      <td>4</td>\n",
       "    </tr>\n",
       "    <tr>\n",
       "      <th>7</th>\n",
       "      <td>Earth House</td>\n",
       "      <td>13</td>\n",
       "    </tr>\n",
       "    <tr>\n",
       "      <th>8</th>\n",
       "      <td>House</td>\n",
       "      <td>7600</td>\n",
       "    </tr>\n",
       "    <tr>\n",
       "      <th>9</th>\n",
       "      <td>Hut</td>\n",
       "      <td>6</td>\n",
       "    </tr>\n",
       "    <tr>\n",
       "      <th>10</th>\n",
       "      <td>Loft</td>\n",
       "      <td>1123</td>\n",
       "    </tr>\n",
       "    <tr>\n",
       "      <th>11</th>\n",
       "      <td>Other</td>\n",
       "      <td>652</td>\n",
       "    </tr>\n",
       "    <tr>\n",
       "      <th>12</th>\n",
       "      <td>Villa</td>\n",
       "      <td>83</td>\n",
       "    </tr>\n",
       "    <tr>\n",
       "      <th>13</th>\n",
       "      <td>Yurt</td>\n",
       "      <td>1</td>\n",
       "    </tr>\n",
       "  </tbody>\n",
       "</table>\n",
       "</div>"
      ],
      "text/plain": [
       "      property_type  number_of_reviews\n",
       "0         Apartment              83240\n",
       "1   Bed & Breakfast               9228\n",
       "2              Boat               5694\n",
       "3             Cabin                270\n",
       "4         Camper/RV                126\n",
       "5            Chalet                  2\n",
       "6              Dorm                  4\n",
       "7       Earth House                 13\n",
       "8             House               7600\n",
       "9               Hut                  6\n",
       "10             Loft               1123\n",
       "11            Other                652\n",
       "12            Villa                 83\n",
       "13             Yurt                  1"
      ]
     },
     "execution_count": 247,
     "metadata": {},
     "output_type": "execute_result"
    }
   ],
   "source": [
    "#Generate groupby dataframe that calculates the number of reviews for each property type in Amsterdam.\n",
    "\n",
    "group_prop_sum_df = df_clean.groupby('property_type', as_index=False).number_of_reviews.sum()\n",
    "group_prop_sum_df"
   ]
  },
  {
   "cell_type": "code",
   "execution_count": 248,
   "metadata": {
    "collapsed": false
   },
   "outputs": [
    {
     "data": {
      "text/html": [
       "<div>\n",
       "<table border=\"1\" class=\"dataframe\">\n",
       "  <thead>\n",
       "    <tr style=\"text-align: right;\">\n",
       "      <th></th>\n",
       "      <th>property_type</th>\n",
       "      <th>review_scores_rating</th>\n",
       "    </tr>\n",
       "  </thead>\n",
       "  <tbody>\n",
       "    <tr>\n",
       "      <th>0</th>\n",
       "      <td>Apartment</td>\n",
       "      <td>93.399557</td>\n",
       "    </tr>\n",
       "    <tr>\n",
       "      <th>1</th>\n",
       "      <td>Bed &amp; Breakfast</td>\n",
       "      <td>91.384342</td>\n",
       "    </tr>\n",
       "    <tr>\n",
       "      <th>2</th>\n",
       "      <td>Boat</td>\n",
       "      <td>94.041509</td>\n",
       "    </tr>\n",
       "    <tr>\n",
       "      <th>3</th>\n",
       "      <td>Cabin</td>\n",
       "      <td>85.444444</td>\n",
       "    </tr>\n",
       "    <tr>\n",
       "      <th>4</th>\n",
       "      <td>Camper/RV</td>\n",
       "      <td>91.666667</td>\n",
       "    </tr>\n",
       "    <tr>\n",
       "      <th>5</th>\n",
       "      <td>Chalet</td>\n",
       "      <td>100.000000</td>\n",
       "    </tr>\n",
       "    <tr>\n",
       "      <th>6</th>\n",
       "      <td>Dorm</td>\n",
       "      <td>95.000000</td>\n",
       "    </tr>\n",
       "    <tr>\n",
       "      <th>7</th>\n",
       "      <td>Earth House</td>\n",
       "      <td>94.000000</td>\n",
       "    </tr>\n",
       "    <tr>\n",
       "      <th>8</th>\n",
       "      <td>House</td>\n",
       "      <td>93.692460</td>\n",
       "    </tr>\n",
       "    <tr>\n",
       "      <th>9</th>\n",
       "      <td>Hut</td>\n",
       "      <td>92.000000</td>\n",
       "    </tr>\n",
       "    <tr>\n",
       "      <th>10</th>\n",
       "      <td>Loft</td>\n",
       "      <td>94.125000</td>\n",
       "    </tr>\n",
       "    <tr>\n",
       "      <th>11</th>\n",
       "      <td>Other</td>\n",
       "      <td>89.842105</td>\n",
       "    </tr>\n",
       "    <tr>\n",
       "      <th>12</th>\n",
       "      <td>Villa</td>\n",
       "      <td>91.166667</td>\n",
       "    </tr>\n",
       "    <tr>\n",
       "      <th>13</th>\n",
       "      <td>Yurt</td>\n",
       "      <td>80.000000</td>\n",
       "    </tr>\n",
       "  </tbody>\n",
       "</table>\n",
       "</div>"
      ],
      "text/plain": [
       "      property_type  review_scores_rating\n",
       "0         Apartment             93.399557\n",
       "1   Bed & Breakfast             91.384342\n",
       "2              Boat             94.041509\n",
       "3             Cabin             85.444444\n",
       "4         Camper/RV             91.666667\n",
       "5            Chalet            100.000000\n",
       "6              Dorm             95.000000\n",
       "7       Earth House             94.000000\n",
       "8             House             93.692460\n",
       "9               Hut             92.000000\n",
       "10             Loft             94.125000\n",
       "11            Other             89.842105\n",
       "12            Villa             91.166667\n",
       "13             Yurt             80.000000"
      ]
     },
     "execution_count": 248,
     "metadata": {},
     "output_type": "execute_result"
    }
   ],
   "source": [
    "#Generate groupby dataframe that calculates the average rating for each property type in Amsterdam.\n",
    "\n",
    "group_prop_mean_df = df_clean.groupby('property_type', as_index=False).review_scores_rating.mean()\n",
    "group_prop_mean_df"
   ]
  },
  {
   "cell_type": "code",
   "execution_count": 249,
   "metadata": {
    "collapsed": false
   },
   "outputs": [
    {
     "data": {
      "text/html": [
       "<div>\n",
       "<table border=\"1\" class=\"dataframe\">\n",
       "  <thead>\n",
       "    <tr style=\"text-align: right;\">\n",
       "      <th></th>\n",
       "      <th>property_type</th>\n",
       "      <th>number_of_properties</th>\n",
       "      <th>number_of_reviews</th>\n",
       "      <th>review_scores_rating</th>\n",
       "      <th>reviews_per_property</th>\n",
       "    </tr>\n",
       "  </thead>\n",
       "  <tbody>\n",
       "    <tr>\n",
       "      <th>11</th>\n",
       "      <td>Other</td>\n",
       "      <td>19</td>\n",
       "      <td>652</td>\n",
       "      <td>89.842105</td>\n",
       "      <td>34.315789</td>\n",
       "    </tr>\n",
       "    <tr>\n",
       "      <th>1</th>\n",
       "      <td>Bed &amp; Breakfast</td>\n",
       "      <td>283</td>\n",
       "      <td>9228</td>\n",
       "      <td>91.384342</td>\n",
       "      <td>32.607774</td>\n",
       "    </tr>\n",
       "    <tr>\n",
       "      <th>3</th>\n",
       "      <td>Cabin</td>\n",
       "      <td>9</td>\n",
       "      <td>270</td>\n",
       "      <td>85.444444</td>\n",
       "      <td>30.000000</td>\n",
       "    </tr>\n",
       "    <tr>\n",
       "      <th>2</th>\n",
       "      <td>Boat</td>\n",
       "      <td>266</td>\n",
       "      <td>5694</td>\n",
       "      <td>94.041509</td>\n",
       "      <td>21.406015</td>\n",
       "    </tr>\n",
       "    <tr>\n",
       "      <th>10</th>\n",
       "      <td>Loft</td>\n",
       "      <td>56</td>\n",
       "      <td>1123</td>\n",
       "      <td>94.125000</td>\n",
       "      <td>20.053571</td>\n",
       "    </tr>\n",
       "    <tr>\n",
       "      <th>0</th>\n",
       "      <td>Apartment</td>\n",
       "      <td>5027</td>\n",
       "      <td>83240</td>\n",
       "      <td>93.399557</td>\n",
       "      <td>16.558584</td>\n",
       "    </tr>\n",
       "    <tr>\n",
       "      <th>8</th>\n",
       "      <td>House</td>\n",
       "      <td>511</td>\n",
       "      <td>7600</td>\n",
       "      <td>93.692460</td>\n",
       "      <td>14.872798</td>\n",
       "    </tr>\n",
       "    <tr>\n",
       "      <th>4</th>\n",
       "      <td>Camper/RV</td>\n",
       "      <td>9</td>\n",
       "      <td>126</td>\n",
       "      <td>91.666667</td>\n",
       "      <td>14.000000</td>\n",
       "    </tr>\n",
       "    <tr>\n",
       "      <th>12</th>\n",
       "      <td>Villa</td>\n",
       "      <td>6</td>\n",
       "      <td>83</td>\n",
       "      <td>91.166667</td>\n",
       "      <td>13.833333</td>\n",
       "    </tr>\n",
       "    <tr>\n",
       "      <th>7</th>\n",
       "      <td>Earth House</td>\n",
       "      <td>1</td>\n",
       "      <td>13</td>\n",
       "      <td>94.000000</td>\n",
       "      <td>13.000000</td>\n",
       "    </tr>\n",
       "    <tr>\n",
       "      <th>9</th>\n",
       "      <td>Hut</td>\n",
       "      <td>1</td>\n",
       "      <td>6</td>\n",
       "      <td>92.000000</td>\n",
       "      <td>6.000000</td>\n",
       "    </tr>\n",
       "    <tr>\n",
       "      <th>5</th>\n",
       "      <td>Chalet</td>\n",
       "      <td>1</td>\n",
       "      <td>2</td>\n",
       "      <td>100.000000</td>\n",
       "      <td>2.000000</td>\n",
       "    </tr>\n",
       "    <tr>\n",
       "      <th>6</th>\n",
       "      <td>Dorm</td>\n",
       "      <td>2</td>\n",
       "      <td>4</td>\n",
       "      <td>95.000000</td>\n",
       "      <td>2.000000</td>\n",
       "    </tr>\n",
       "    <tr>\n",
       "      <th>13</th>\n",
       "      <td>Yurt</td>\n",
       "      <td>1</td>\n",
       "      <td>1</td>\n",
       "      <td>80.000000</td>\n",
       "      <td>1.000000</td>\n",
       "    </tr>\n",
       "  </tbody>\n",
       "</table>\n",
       "</div>"
      ],
      "text/plain": [
       "      property_type  number_of_properties  number_of_reviews  \\\n",
       "11            Other                    19                652   \n",
       "1   Bed & Breakfast                   283               9228   \n",
       "3             Cabin                     9                270   \n",
       "2              Boat                   266               5694   \n",
       "10             Loft                    56               1123   \n",
       "0         Apartment                  5027              83240   \n",
       "8             House                   511               7600   \n",
       "4         Camper/RV                     9                126   \n",
       "12            Villa                     6                 83   \n",
       "7       Earth House                     1                 13   \n",
       "9               Hut                     1                  6   \n",
       "5            Chalet                     1                  2   \n",
       "6              Dorm                     2                  4   \n",
       "13             Yurt                     1                  1   \n",
       "\n",
       "    review_scores_rating  reviews_per_property  \n",
       "11             89.842105             34.315789  \n",
       "1              91.384342             32.607774  \n",
       "3              85.444444             30.000000  \n",
       "2              94.041509             21.406015  \n",
       "10             94.125000             20.053571  \n",
       "0              93.399557             16.558584  \n",
       "8              93.692460             14.872798  \n",
       "4              91.666667             14.000000  \n",
       "12             91.166667             13.833333  \n",
       "7              94.000000             13.000000  \n",
       "9              92.000000              6.000000  \n",
       "5             100.000000              2.000000  \n",
       "6              95.000000              2.000000  \n",
       "13             80.000000              1.000000  "
      ]
     },
     "execution_count": 249,
     "metadata": {},
     "output_type": "execute_result"
    }
   ],
   "source": [
    "#Merge multiple dataframes together, calculate the reviews per property type metric and sort in decending order. \n",
    "\n",
    "df3 = group_prop_type_df.merge(group_prop_sum_df, on='property_type', how='inner')\n",
    "property_type_df = df3.merge(group_prop_mean_df, on='property_type', how='inner')\n",
    "property_type_df['reviews_per_property'] = property_type_df['number_of_reviews'] / property_type_df['number_of_properties']\n",
    "property_type_df.sort_values(['reviews_per_property'], ascending=False)"
   ]
  },
  {
   "cell_type": "code",
   "execution_count": 272,
   "metadata": {
    "collapsed": false
   },
   "outputs": [
    {
     "data": {
      "text/plain": [
       "neighbourhood_cleansed\n",
       "Bos en Lommer             1\n",
       "Centrum-Oost              2\n",
       "Centrum-West              5\n",
       "De Baarsjes - Oud-West    4\n",
       "Osdorp                    1\n",
       "Oud-Noord                 3\n",
       "Westerpark                2\n",
       "Zuid                      1\n",
       "Name: id, dtype: int64"
      ]
     },
     "execution_count": 272,
     "metadata": {},
     "output_type": "execute_result"
    }
   ],
   "source": [
    "#Find all of the listings that have the \"Other\" property type.\n",
    "df_other = df_clean[df_clean.property_type == 'Other']\n",
    "df_other.groupby('neighbourhood_cleansed').id.count()"
   ]
  },
  {
   "cell_type": "code",
   "execution_count": 278,
   "metadata": {
    "collapsed": false
   },
   "outputs": [
    {
     "data": {
      "text/plain": [
       "neighbourhood_cleansed\n",
       "Bos en Lommer             140.000000\n",
       "Centrum-Oost              112.500000\n",
       "Centrum-West               91.800000\n",
       "De Baarsjes - Oud-West     67.500000\n",
       "Osdorp                    110.000000\n",
       "Oud-Noord                 231.666667\n",
       "Westerpark                 42.500000\n",
       "Zuid                       85.000000\n",
       "Name: price, dtype: float64"
      ]
     },
     "execution_count": 278,
     "metadata": {},
     "output_type": "execute_result"
    }
   ],
   "source": [
    "df_other.groupby('neighbourhood_cleansed').price.mean()"
   ]
  },
  {
   "cell_type": "code",
   "execution_count": 276,
   "metadata": {
    "collapsed": false
   },
   "outputs": [
    {
     "data": {
      "text/plain": [
       "room_type\n",
       "Entire home/apt    11\n",
       "Private room        7\n",
       "Shared room         1\n",
       "Name: room_type, dtype: int64"
      ]
     },
     "execution_count": 276,
     "metadata": {},
     "output_type": "execute_result"
    }
   ],
   "source": [
    "df_other.groupby('room_type').room_type.count()"
   ]
  },
  {
   "cell_type": "code",
   "execution_count": 250,
   "metadata": {
    "collapsed": false
   },
   "outputs": [],
   "source": [
    "#Select datasets for plotting.\n",
    "\n",
    "sns.set(style=\"whitegrid\")\n",
    "\n",
    "rev_prop = property_type_df.sort_values(['reviews_per_property'], ascending=False)\n",
    "prop_type = room_type_df.sort_values(['reviews_per_room'], ascending=False)\n",
    "neighbor = group_df.sort_values(['num_review_per_property'], ascending=False)"
   ]
  },
  {
   "cell_type": "code",
   "execution_count": 251,
   "metadata": {
    "collapsed": false
   },
   "outputs": [
    {
     "data": {
      "text/plain": [
       "<matplotlib.text.Text at 0x11d9c6198>"
      ]
     },
     "execution_count": 251,
     "metadata": {},
     "output_type": "execute_result"
    },
    {
     "data": {
      "image/png": "[encoded data removed]",
      "text/plain": [
       "<matplotlib.figure.Figure at 0x11d486b38>"
      ]
     },
     "metadata": {},
     "output_type": "display_data"
    }
   ],
   "source": [
    "ax0 = sns.barplot(x=\"reviews_per_property\", y=\"property_type\", data=rev_prop, color='b')\n",
    "ax0.set_xlabel('Number of Reviews Per Property Type')\n",
    "ax0.set_ylabel('Property Type')"
   ]
  },
  {
   "cell_type": "code",
   "execution_count": 291,
   "metadata": {
    "collapsed": false
   },
   "outputs": [
    {
     "data": {
      "text/plain": [
       "<matplotlib.text.Text at 0x11da780b8>"
      ]
     },
     "execution_count": 291,
     "metadata": {},
     "output_type": "execute_result"
    },
    {
     "data": {
      "image/png": "[encoded data removed]",
      "text/plain": [
       "<matplotlib.figure.Figure at 0x11de785f8>"
      ]
     },
     "metadata": {},
     "output_type": "display_data"
    }
   ],
   "source": [
    "ax1 = sns.barplot(x=\"number_of_properties\", y=\"property_type\", data=rev_prop, color='b')\n",
    "ax1.set_xlabel('Number of Property Type')\n",
    "ax1.set_ylabel('Property Type')"
   ]
  },
  {
   "cell_type": "code",
   "execution_count": 286,
   "metadata": {
    "collapsed": false
   },
   "outputs": [
    {
     "data": {
      "text/plain": [
       "<matplotlib.text.Text at 0x11da45c50>"
      ]
     },
     "execution_count": 286,
     "metadata": {},
     "output_type": "execute_result"
    },
    {
     "data": {
      "image/png": "[encoded data removed]",
      "text/plain": [
       "<matplotlib.figure.Figure at 0x11d9e41d0>"
      ]
     },
     "metadata": {},
     "output_type": "display_data"
    }
   ],
   "source": [
    "ax2 = sns.barplot(x=\"reviews_per_room\", y=\"room_type\", data=prop_type, color='b')\n",
    "ax2.set_xlabel('Number of Reviews Per Room Type')\n",
    "ax2.set_ylabel('Room Type')"
   ]
  },
  {
   "cell_type": "code",
   "execution_count": 292,
   "metadata": {
    "collapsed": false
   },
   "outputs": [
    {
     "data": {
      "text/plain": [
       "<matplotlib.text.Text at 0x11f786cc0>"
      ]
     },
     "execution_count": 292,
     "metadata": {},
     "output_type": "execute_result"
    },
    {
     "data": {
      "image/png": "[encoded data removed]",
      "text/plain": [
       "<matplotlib.figure.Figure at 0x11dabef98>"
      ]
     },
     "metadata": {},
     "output_type": "display_data"
    }
   ],
   "source": [
    "ax3 = sns.barplot(x=\"number_of_rooms\", y=\"room_type\", data=prop_type, color='b')\n",
    "ax3.set_xlabel('Number of Reviews Per Room Type')\n",
    "ax3.set_ylabel('Room Type')"
   ]
  },
  {
   "cell_type": "code",
   "execution_count": 289,
   "metadata": {
    "collapsed": false
   },
   "outputs": [
    {
     "data": {
      "text/plain": [
       "<matplotlib.text.Text at 0x11e10a518>"
      ]
     },
     "execution_count": 289,
     "metadata": {},
     "output_type": "execute_result"
    },
    {
     "data": {
      "image/png": "[encoded data removed]",
      "text/plain": [
       "<matplotlib.figure.Figure at 0x11e11f1d0>"
      ]
     },
     "metadata": {},
     "output_type": "display_data"
    }
   ],
   "source": [
    "ax4 = sns.barplot(x=\"num_review_per_property\", y=\"neighbourhood_cleansed\", data=neighbor, color='b')\n",
    "ax4.set_xlabel('Number of Reviews Per Neighborhood')\n",
    "ax4.set_ylabel('Neighborhood')"
   ]
  },
  {
   "cell_type": "code",
   "execution_count": 293,
   "metadata": {
    "collapsed": false
   },
   "outputs": [
    {
     "data": {
      "text/plain": [
       "<matplotlib.text.Text at 0x11f7c19e8>"
      ]
     },
     "execution_count": 293,
     "metadata": {},
     "output_type": "execute_result"
    },
    {
     "data": {
      "image/png": "[encoded data removed]",
      "text/plain": [
       "<matplotlib.figure.Figure at 0x11f7ee438>"
      ]
     },
     "metadata": {},
     "output_type": "display_data"
    }
   ],
   "source": [
    "ax5 = sns.barplot(x=\"number_of_properties\", y=\"neighbourhood_cleansed\", data=neighbor, color='b')\n",
    "ax5.set_xlabel('Number of Properties in each Neighborhood')\n",
    "ax5.set_ylabel('Neighborhood')"
   ]
  }
 ],
 "metadata": {
  "anaconda-cloud": {},
  "kernelspec": {
   "display_name": "Python [conda root]",
   "language": "python",
   "name": "conda-root-py"
  },
  "language_info": {
   "codemirror_mode": {
    "name": "ipython",
    "version": 3
   },
   "file_extension": ".py",
   "mimetype": "text/x-python",
   "name": "python",
   "nbconvert_exporter": "python",
   "pygments_lexer": "ipython3",
   "version": "3.5.2"
  }
 },
 "nbformat": 4,
 "nbformat_minor": 0
}
